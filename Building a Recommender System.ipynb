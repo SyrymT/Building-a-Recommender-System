{
 "cells": [
  {
   "cell_type": "markdown",
   "id": "4b0f35f8",
   "metadata": {},
   "source": [
    "# Building a Recommender System Using MovieLens"
   ]
  },
  {
   "cell_type": "markdown",
   "id": "5699f54e",
   "metadata": {},
   "source": [
    "![Movie Lens](movielens.png)\n",
    "\n",
    "---"
   ]
  },
  {
   "cell_type": "markdown",
   "id": "b7d1891b",
   "metadata": {},
   "source": [
    "### Import Packages"
   ]
  },
  {
   "cell_type": "code",
   "execution_count": 1,
   "id": "c5b42088",
   "metadata": {},
   "outputs": [],
   "source": [
    "import numpy as np\n",
    "import pandas as pd\n",
    "import time\n",
    "import random\n",
    "\n",
    "import seaborn as sns\n",
    "sns.set()\n",
    "sns.set_style('whitegrid')\n",
    "sns.set_context('paper', font_scale=1.6, rc={\"lines.linewidth\": 2})\n",
    "import matplotlib.pyplot as plt\n",
    "import matplotlib.pyplot as plt\n",
    "import matplotlib.ticker as ticker\n",
    "\n",
    "from surprise import Dataset\n",
    "from surprise import Reader\n",
    "from surprise import NormalPredictor\n",
    "from surprise.model_selection import cross_validate, train_test_split, GridSearchCV\n",
    "from surprise.model_selection.split import KFold\n",
    "from surprise import KNNBasic, KNNWithMeans, KNNWithZScore, KNNBaseline\n",
    "from surprise import SVD, SVDpp, NMF\n",
    "\n",
    "np.random.seed(42)"
   ]
  },
  {
   "cell_type": "markdown",
   "id": "d6ebaf4c",
   "metadata": {},
   "source": [
    "### Dataset"
   ]
  },
  {
   "cell_type": "code",
   "execution_count": 2,
   "id": "079711d3",
   "metadata": {},
   "outputs": [],
   "source": [
    "df = pd.read_csv('MovieLens-Ratings.csv', na_values=-1)"
   ]
  },
  {
   "cell_type": "markdown",
   "id": "4c791d61",
   "metadata": {},
   "source": [
    "---"
   ]
  },
  {
   "cell_type": "markdown",
   "id": "5fc0abf3",
   "metadata": {},
   "source": [
    "## Part I: Exploratory Data Analysis"
   ]
  },
  {
   "cell_type": "markdown",
   "id": "8930bea6",
   "metadata": {},
   "source": [
    "### Description of Dataset"
   ]
  },
  {
   "cell_type": "markdown",
   "id": "0a4869df",
   "metadata": {},
   "source": [
    "The dataset used in this project originates from the [MovieLens](https://grouplens.org/datasets/movielens/)\n",
    "dataset, a research initiative conducted by GroupLens Research, situated in the Department of Computer Science and Engineering at the University of Minnesota. This dataset contains a collection of movie ratings, comprising 27,753,444 ratings, spanning 58,098 different movies and involving 283,228 users. Data collection for this dataset extended from January 09, 1995, to September 26, 2018, with the dataset being compiled on September 26, 2018.\n",
    "\n",
    "The users included in this dataset were chosen at random for inclusion. Furthermore, all selected users had rated at least one movie. It's important to note that the dataset provides user identification (user ID) for each user, but no additional demographic information was collected during data acquisition.\n",
    "\n",
    "The file structure of the MovieLens dataset is such that each line corresponds to a single movie rating provided by a particular user and adheres to the following format: `userId`, `movieId`, `rating`, `timestamp`. The lines within the file are organized first by `userId` and then, within each user, by `movieId`. The ratings within this dataset are expressed on a five-star scale, allowing for half-star increments, ranging from 0.5 stars to 5.0 stars. "
   ]
  },
  {
   "cell_type": "code",
   "execution_count": 3,
   "id": "240cb344",
   "metadata": {},
   "outputs": [
    {
     "name": "stdout",
     "output_type": "stream",
     "text": [
      "<class 'pandas.core.frame.DataFrame'>\n",
      "RangeIndex: 27753444 entries, 0 to 27753443\n",
      "Data columns (total 4 columns):\n",
      " #   Column     Dtype  \n",
      "---  ------     -----  \n",
      " 0   userId     int64  \n",
      " 1   movieId    int64  \n",
      " 2   rating     float64\n",
      " 3   timestamp  int64  \n",
      "dtypes: float64(1), int64(3)\n",
      "memory usage: 847.0 MB\n"
     ]
    }
   ],
   "source": [
    "df.info()"
   ]
  },
  {
   "cell_type": "code",
   "execution_count": 4,
   "id": "d6ff4b88",
   "metadata": {},
   "outputs": [
    {
     "data": {
      "text/html": [
       "<div>\n",
       "<style scoped>\n",
       "    .dataframe tbody tr th:only-of-type {\n",
       "        vertical-align: middle;\n",
       "    }\n",
       "\n",
       "    .dataframe tbody tr th {\n",
       "        vertical-align: top;\n",
       "    }\n",
       "\n",
       "    .dataframe thead th {\n",
       "        text-align: right;\n",
       "    }\n",
       "</style>\n",
       "<table border=\"1\" class=\"dataframe\">\n",
       "  <thead>\n",
       "    <tr style=\"text-align: right;\">\n",
       "      <th></th>\n",
       "      <th>userId</th>\n",
       "      <th>movieId</th>\n",
       "      <th>rating</th>\n",
       "      <th>timestamp</th>\n",
       "    </tr>\n",
       "  </thead>\n",
       "  <tbody>\n",
       "    <tr>\n",
       "      <th>0</th>\n",
       "      <td>1</td>\n",
       "      <td>307</td>\n",
       "      <td>3.5</td>\n",
       "      <td>1256677221</td>\n",
       "    </tr>\n",
       "    <tr>\n",
       "      <th>1</th>\n",
       "      <td>1</td>\n",
       "      <td>481</td>\n",
       "      <td>3.5</td>\n",
       "      <td>1256677456</td>\n",
       "    </tr>\n",
       "    <tr>\n",
       "      <th>2</th>\n",
       "      <td>1</td>\n",
       "      <td>1091</td>\n",
       "      <td>1.5</td>\n",
       "      <td>1256677471</td>\n",
       "    </tr>\n",
       "    <tr>\n",
       "      <th>3</th>\n",
       "      <td>1</td>\n",
       "      <td>1257</td>\n",
       "      <td>4.5</td>\n",
       "      <td>1256677460</td>\n",
       "    </tr>\n",
       "    <tr>\n",
       "      <th>4</th>\n",
       "      <td>1</td>\n",
       "      <td>1449</td>\n",
       "      <td>4.5</td>\n",
       "      <td>1256677264</td>\n",
       "    </tr>\n",
       "    <tr>\n",
       "      <th>...</th>\n",
       "      <td>...</td>\n",
       "      <td>...</td>\n",
       "      <td>...</td>\n",
       "      <td>...</td>\n",
       "    </tr>\n",
       "    <tr>\n",
       "      <th>27753419</th>\n",
       "      <td>283228</td>\n",
       "      <td>3578</td>\n",
       "      <td>5.0</td>\n",
       "      <td>1379882818</td>\n",
       "    </tr>\n",
       "    <tr>\n",
       "      <th>27753420</th>\n",
       "      <td>283228</td>\n",
       "      <td>3897</td>\n",
       "      <td>4.5</td>\n",
       "      <td>1379882900</td>\n",
       "    </tr>\n",
       "    <tr>\n",
       "      <th>27753421</th>\n",
       "      <td>283228</td>\n",
       "      <td>4310</td>\n",
       "      <td>3.0</td>\n",
       "      <td>1354118775</td>\n",
       "    </tr>\n",
       "    <tr>\n",
       "      <th>27753422</th>\n",
       "      <td>283228</td>\n",
       "      <td>4886</td>\n",
       "      <td>5.0</td>\n",
       "      <td>1379882828</td>\n",
       "    </tr>\n",
       "    <tr>\n",
       "      <th>27753423</th>\n",
       "      <td>283228</td>\n",
       "      <td>4995</td>\n",
       "      <td>4.0</td>\n",
       "      <td>1379882723</td>\n",
       "    </tr>\n",
       "  </tbody>\n",
       "</table>\n",
       "<p>27753424 rows × 4 columns</p>\n",
       "</div>"
      ],
      "text/plain": [
       "          userId  movieId  rating   timestamp\n",
       "0              1      307     3.5  1256677221\n",
       "1              1      481     3.5  1256677456\n",
       "2              1     1091     1.5  1256677471\n",
       "3              1     1257     4.5  1256677460\n",
       "4              1     1449     4.5  1256677264\n",
       "...          ...      ...     ...         ...\n",
       "27753419  283228     3578     5.0  1379882818\n",
       "27753420  283228     3897     4.5  1379882900\n",
       "27753421  283228     4310     3.0  1354118775\n",
       "27753422  283228     4886     5.0  1379882828\n",
       "27753423  283228     4995     4.0  1379882723\n",
       "\n",
       "[27753424 rows x 4 columns]"
      ]
     },
     "execution_count": 4,
     "metadata": {},
     "output_type": "execute_result"
    }
   ],
   "source": [
    "df.head(n=-20)"
   ]
  },
  {
   "cell_type": "code",
   "execution_count": 5,
   "id": "ffb369a8",
   "metadata": {},
   "outputs": [
    {
     "data": {
      "text/html": [
       "<div>\n",
       "<style scoped>\n",
       "    .dataframe tbody tr th:only-of-type {\n",
       "        vertical-align: middle;\n",
       "    }\n",
       "\n",
       "    .dataframe tbody tr th {\n",
       "        vertical-align: top;\n",
       "    }\n",
       "\n",
       "    .dataframe thead th {\n",
       "        text-align: right;\n",
       "    }\n",
       "</style>\n",
       "<table border=\"1\" class=\"dataframe\">\n",
       "  <thead>\n",
       "    <tr style=\"text-align: right;\">\n",
       "      <th></th>\n",
       "      <th>userId</th>\n",
       "      <th>movieId</th>\n",
       "      <th>rating</th>\n",
       "      <th>timestamp</th>\n",
       "    </tr>\n",
       "  </thead>\n",
       "  <tbody>\n",
       "    <tr>\n",
       "      <th>count</th>\n",
       "      <td>2.775344e+07</td>\n",
       "      <td>2.775344e+07</td>\n",
       "      <td>2.775344e+07</td>\n",
       "      <td>2.775344e+07</td>\n",
       "    </tr>\n",
       "    <tr>\n",
       "      <th>mean</th>\n",
       "      <td>1.419420e+05</td>\n",
       "      <td>1.848800e+04</td>\n",
       "      <td>3.530445e+00</td>\n",
       "      <td>1.193122e+09</td>\n",
       "    </tr>\n",
       "    <tr>\n",
       "      <th>std</th>\n",
       "      <td>8.170740e+04</td>\n",
       "      <td>3.510263e+04</td>\n",
       "      <td>1.066353e+00</td>\n",
       "      <td>2.160482e+08</td>\n",
       "    </tr>\n",
       "    <tr>\n",
       "      <th>min</th>\n",
       "      <td>1.000000e+00</td>\n",
       "      <td>1.000000e+00</td>\n",
       "      <td>5.000000e-01</td>\n",
       "      <td>7.896520e+08</td>\n",
       "    </tr>\n",
       "    <tr>\n",
       "      <th>25%</th>\n",
       "      <td>7.117600e+04</td>\n",
       "      <td>1.097000e+03</td>\n",
       "      <td>3.000000e+00</td>\n",
       "      <td>9.986053e+08</td>\n",
       "    </tr>\n",
       "    <tr>\n",
       "      <th>50%</th>\n",
       "      <td>1.420220e+05</td>\n",
       "      <td>2.716000e+03</td>\n",
       "      <td>3.500000e+00</td>\n",
       "      <td>1.174256e+09</td>\n",
       "    </tr>\n",
       "    <tr>\n",
       "      <th>75%</th>\n",
       "      <td>2.124590e+05</td>\n",
       "      <td>7.150000e+03</td>\n",
       "      <td>4.000000e+00</td>\n",
       "      <td>1.422744e+09</td>\n",
       "    </tr>\n",
       "    <tr>\n",
       "      <th>max</th>\n",
       "      <td>2.832280e+05</td>\n",
       "      <td>1.938860e+05</td>\n",
       "      <td>5.000000e+00</td>\n",
       "      <td>1.537945e+09</td>\n",
       "    </tr>\n",
       "  </tbody>\n",
       "</table>\n",
       "</div>"
      ],
      "text/plain": [
       "             userId       movieId        rating     timestamp\n",
       "count  2.775344e+07  2.775344e+07  2.775344e+07  2.775344e+07\n",
       "mean   1.419420e+05  1.848800e+04  3.530445e+00  1.193122e+09\n",
       "std    8.170740e+04  3.510263e+04  1.066353e+00  2.160482e+08\n",
       "min    1.000000e+00  1.000000e+00  5.000000e-01  7.896520e+08\n",
       "25%    7.117600e+04  1.097000e+03  3.000000e+00  9.986053e+08\n",
       "50%    1.420220e+05  2.716000e+03  3.500000e+00  1.174256e+09\n",
       "75%    2.124590e+05  7.150000e+03  4.000000e+00  1.422744e+09\n",
       "max    2.832280e+05  1.938860e+05  5.000000e+00  1.537945e+09"
      ]
     },
     "execution_count": 5,
     "metadata": {},
     "output_type": "execute_result"
    }
   ],
   "source": [
    "df.describe()"
   ]
  },
  {
   "cell_type": "markdown",
   "id": "8c05bba8",
   "metadata": {},
   "source": [
    "The dataset is clean, with no missing values (NA's) or duplicated entries, so there is no need for additional data cleaning techniques at this point. Furthermore, the dataset includes records from a total of 283,228 unique users. There is a diverse collection of 53,889 unique movies in the dataset."
   ]
  },
  {
   "cell_type": "code",
   "execution_count": 6,
   "id": "f61875bd",
   "metadata": {},
   "outputs": [
    {
     "data": {
      "text/plain": [
       "userId       0\n",
       "movieId      0\n",
       "rating       0\n",
       "timestamp    0\n",
       "dtype: int64"
      ]
     },
     "execution_count": 6,
     "metadata": {},
     "output_type": "execute_result"
    }
   ],
   "source": [
    "df.isna().sum()"
   ]
  },
  {
   "cell_type": "code",
   "execution_count": 7,
   "id": "4e253327",
   "metadata": {},
   "outputs": [
    {
     "data": {
      "text/plain": [
       "0"
      ]
     },
     "execution_count": 7,
     "metadata": {},
     "output_type": "execute_result"
    }
   ],
   "source": [
    "df.duplicated().sum()"
   ]
  },
  {
   "cell_type": "code",
   "execution_count": 8,
   "id": "0d7b238d",
   "metadata": {},
   "outputs": [
    {
     "name": "stdout",
     "output_type": "stream",
     "text": [
      "missing values: 0.0%\n",
      "unique users: 283228\n",
      "unique movies: 53889\n"
     ]
    }
   ],
   "source": [
    "percent_missing = df.isnull().sum() * 100 / len(df)\n",
    "unique_users = len(df['userId'].unique())\n",
    "unique_movie = len(df['movieId'].unique())\n",
    "\n",
    "print('missing values: ' + str(round(percent_missing['rating'], 2)) + '%')\n",
    "print('unique users: ' + str(unique_users))\n",
    "print('unique movies: ' + str(unique_movie))"
   ]
  },
  {
   "cell_type": "markdown",
   "id": "647fa4c8",
   "metadata": {},
   "source": [
    "### Distribution of Movie Ratings\n",
    "\n",
    "This figure illustrates the distribution of movie ratings within the MovieLens dataset. The horizontal axis resperents the range of ratings given to movies. The vertical axis represents the count of movies that received a rating falling within each of the specific range (or bin). The plot indicates that the majority of ratings fall within the 3-star and 4-star range. The distribution of the ratings is slightly skewed to the left."
   ]
  },
  {
   "cell_type": "code",
   "execution_count": 9,
   "id": "15fec449",
   "metadata": {},
   "outputs": [
    {
     "data": {
      "image/png": "[encoded data removed]",
      "text/plain": [
       "<Figure size 648x432 with 1 Axes>"
      ]
     },
     "metadata": {},
     "output_type": "display_data"
    }
   ],
   "source": [
    "# set style for sns plots\n",
    "plt.figure(figsize=[9,6])\n",
    "custom_params = {\"axes.spines.right\": False, \"axes.spines.top\": False}\n",
    "sns.set_theme(style=\"ticks\", rc=custom_params, font_scale = 1.2)\n",
    "\n",
    "# create distribution plot for movie ratings\n",
    "ax = sns.histplot(data=df, x=\"rating\", bins=10, edgecolor='k', color=\"#E5E5E5\")\n",
    "ax.set(title=\"Distribution of Movie Ratings\", ylabel=\"Count\", xlabel=\"Movie Rating\")\n",
    "ax.yaxis.set_major_formatter(ticker.FuncFormatter(lambda x, pos: f'{int(x):}'))\n",
    "plt.show()"
   ]
  },
  {
   "cell_type": "code",
   "execution_count": 10,
   "id": "6d0d01c5",
   "metadata": {},
   "outputs": [
    {
     "data": {
      "text/html": [
       "<div>\n",
       "<style scoped>\n",
       "    .dataframe tbody tr th:only-of-type {\n",
       "        vertical-align: middle;\n",
       "    }\n",
       "\n",
       "    .dataframe tbody tr th {\n",
       "        vertical-align: top;\n",
       "    }\n",
       "\n",
       "    .dataframe thead th {\n",
       "        text-align: right;\n",
       "    }\n",
       "</style>\n",
       "<table border=\"1\" class=\"dataframe\">\n",
       "  <thead>\n",
       "    <tr style=\"text-align: right;\">\n",
       "      <th></th>\n",
       "      <th>Rating</th>\n",
       "      <th>Count</th>\n",
       "    </tr>\n",
       "  </thead>\n",
       "  <tbody>\n",
       "    <tr>\n",
       "      <th>0</th>\n",
       "      <td>0.5</td>\n",
       "      <td>442388</td>\n",
       "    </tr>\n",
       "    <tr>\n",
       "      <th>1</th>\n",
       "      <td>1.0</td>\n",
       "      <td>886233</td>\n",
       "    </tr>\n",
       "    <tr>\n",
       "      <th>2</th>\n",
       "      <td>1.5</td>\n",
       "      <td>441354</td>\n",
       "    </tr>\n",
       "    <tr>\n",
       "      <th>3</th>\n",
       "      <td>2.0</td>\n",
       "      <td>1850627</td>\n",
       "    </tr>\n",
       "    <tr>\n",
       "      <th>4</th>\n",
       "      <td>2.5</td>\n",
       "      <td>1373419</td>\n",
       "    </tr>\n",
       "    <tr>\n",
       "      <th>5</th>\n",
       "      <td>3.0</td>\n",
       "      <td>5515668</td>\n",
       "    </tr>\n",
       "    <tr>\n",
       "      <th>6</th>\n",
       "      <td>3.5</td>\n",
       "      <td>3404360</td>\n",
       "    </tr>\n",
       "    <tr>\n",
       "      <th>7</th>\n",
       "      <td>4.0</td>\n",
       "      <td>7394710</td>\n",
       "    </tr>\n",
       "    <tr>\n",
       "      <th>8</th>\n",
       "      <td>4.5</td>\n",
       "      <td>2373550</td>\n",
       "    </tr>\n",
       "    <tr>\n",
       "      <th>9</th>\n",
       "      <td>5.0</td>\n",
       "      <td>4071135</td>\n",
       "    </tr>\n",
       "  </tbody>\n",
       "</table>\n",
       "</div>"
      ],
      "text/plain": [
       "   Rating    Count\n",
       "0     0.5   442388\n",
       "1     1.0   886233\n",
       "2     1.5   441354\n",
       "3     2.0  1850627\n",
       "4     2.5  1373419\n",
       "5     3.0  5515668\n",
       "6     3.5  3404360\n",
       "7     4.0  7394710\n",
       "8     4.5  2373550\n",
       "9     5.0  4071135"
      ]
     },
     "execution_count": 10,
     "metadata": {},
     "output_type": "execute_result"
    }
   ],
   "source": [
    "# Count the number of ratings for each unique rating value\n",
    "rating_counts = df['rating'].value_counts().sort_index()\n",
    "rating_table = pd.DataFrame({'Rating': rating_counts.index, 'Count': rating_counts.values})\n",
    "rating_table"
   ]
  },
  {
   "cell_type": "markdown",
   "id": "5f273430",
   "metadata": {},
   "source": [
    "### Density of Movie IDs\n",
    "\n",
    "**Distribution of the Number of Movie Ratings**   \n",
    "The plot of the left below displays the distribution of movie ratings in the MovieLens dataset. On the horizontal axis, you can see the number of ratings given to movies, divided into various bins. The vertical axis represents the count of movies that fall into each of these rating count bins. Each bar in the histogram indicates how many movies received a specific number of ratings.    \n",
    "\n",
    "This specific plot shows how many movies received a certain number of ratings, helping us understand the distribution of movie popularity based on the number of user ratings they have received. The plot shows that there is a range of movies with varying numbers of ratings, with very few being more popular. Most movies contain a very low number of ratings.\n",
    "\n",
    "**Density Plot of Movie IDs**   \n",
    "Since each row in the dataset represents one rating, the plot on the right effectively shows the distribution of movies within the dataset based on how frequently they appear in the ratings data. The horizontal axis represents movie IDs, and each movie ID is plotted according to its frequency in the dataset. The vertical axis represents the density of movie IDs, indicating how concentrated or sparse the movie IDs are within the dataset. The plot provides insights into which movies are more frequently rated or appear more often in the dataset compared to others. Once more, this plot underscores the fact that only a small number of movies receive frequent ratings, while the majority of movies are rated far less frequently."
   ]
  },
  {
   "cell_type": "code",
   "execution_count": 11,
   "id": "40f92d3a",
   "metadata": {},
   "outputs": [
    {
     "data": {
      "image/png": "[encoded data removed]",
      "text/plain": [
       "<Figure size 936x432 with 2 Axes>"
      ]
     },
     "metadata": {},
     "output_type": "display_data"
    }
   ],
   "source": [
    "# Count movie rating counts\n",
    "movie_rating_counts = df['movieId'].value_counts().reset_index()\n",
    "movie_rating_counts.columns = ['movieId', 'rating_count']\n",
    "movie_rating_counts = movie_rating_counts.sort_values(by='rating_count', ascending=False)\n",
    "\n",
    "plt.figure(figsize=(13,6))\n",
    "plt.subplot(1, 2, 1)\n",
    "plt.hist(movie_rating_counts['rating_count'], bins=50, color=\"#E5E5E5\", edgecolor='k')\n",
    "plt.xlabel('Number of Ratings')\n",
    "plt.ylabel('Number of Movies')\n",
    "plt.title('Distribution of Movie Ratings')\n",
    "\n",
    "# Density plot of movie IDs\n",
    "plt.subplot(1,2,2)\n",
    "sns.histplot(df['movieId'], kde=True, color='#FF5F1F')\n",
    "plt.title('Density Plot of Movie IDs')\n",
    "plt.tight_layout()\n",
    "plt.show()"
   ]
  },
  {
   "cell_type": "markdown",
   "id": "b16410f5",
   "metadata": {},
   "source": [
    "### Popular Movies \n",
    "\n",
    "**Most Rated Movies**   \n",
    "On the left side, we show the \"Most Rated Movies\" plot. It displays the top 15 movies that have received the highest number of ratings. Each bar represents a movie, identified by its Movie ID on the x-axis. The height of each bar represents the number of ratings that the movie has received, indicated on the y-axis. \n",
    "\n",
    "**Average Ratings of Most Rated Movies**    \n",
    "On the right side, we present the \"Average Ratings of Most Rated Movies\" plot. This plot focuses on the same top 15 most rated movies from the previous plot. However, instead of showing the count of ratings, it displays the average rating each of these movies has received. Again, Movie IDs are on the x-axis, and the y-axis represents the average rating. The movies with the highest number of ratings tend to cluster around an average rating of approximately 4 stars."
   ]
  },
  {
   "cell_type": "code",
   "execution_count": 12,
   "id": "002eddc7",
   "metadata": {},
   "outputs": [
    {
     "data": {
      "image/png": "[encoded data removed]",
      "text/plain": [
       "<Figure size 936x432 with 2 Axes>"
      ]
     },
     "metadata": {},
     "output_type": "display_data"
    }
   ],
   "source": [
    "# Get the top 10 most rated movies\n",
    "most_rated = df['movieId'].value_counts().head(15).reset_index()\n",
    "most_rated.columns = ['movieId', 'count']\n",
    "most_rated = most_rated.sort_values(by='count', ascending=False)\n",
    "\n",
    "plt.figure(figsize=(13,6))\n",
    "plt.subplot(1, 2, 1)\n",
    "plt.title(\"Most Rated Movies\")\n",
    "sns.barplot(x='movieId', y='count', data=most_rated, color=\"#E5E5E5\", edgecolor='k', order=most_rated['movieId'])\n",
    "plt.xlabel('Movie ID')\n",
    "plt.xticks(rotation=45) \n",
    "plt.ylabel('Number of Ratings')\n",
    "\n",
    "# Get average ratings of most rated movies\n",
    "avg_data = df.groupby('movieId', as_index=False)['rating'].mean()\n",
    "temp = df.movieId.value_counts().reset_index()\n",
    "temp.columns = ['movieId','count']\n",
    "most_rated_rating = pd.merge(avg_data,temp,on='movieId')\n",
    "most_rated_rating = most_rated_rating.sort_values('count',ascending=False)\n",
    "\n",
    "plt.subplot(1, 2, 2)\n",
    "plt.title(\"Average Ratings of Most Rated Movies\")\n",
    "sns.barplot(x='movieId', y='rating', data = most_rated_rating.head(15), color=\"#E5E5E5\", edgecolor='k', order=most_rated['movieId'])\n",
    "plt.xlabel('Movie ID')\n",
    "plt.xticks(rotation=45) \n",
    "plt.ylabel('Average Rating')\n",
    "plt.tight_layout()\n",
    "plt.show()"
   ]
  },
  {
   "cell_type": "markdown",
   "id": "9b21ef6d",
   "metadata": {},
   "source": [
    "**Average Ratings: Highest and Lowest**   \n",
    "The tables presented below display the top 15 movieIds with the highest and lowest ratings (5 and 0.5, respectively). Once more, these tables emphasize that the majority of movies receive relatively few ratings, indicated by `num_ratings`."
   ]
  },
  {
   "cell_type": "code",
   "execution_count": 13,
   "id": "8daa598a",
   "metadata": {},
   "outputs": [
    {
     "data": {
      "text/html": [
       "<div>\n",
       "<style scoped>\n",
       "    .dataframe tbody tr th:only-of-type {\n",
       "        vertical-align: middle;\n",
       "    }\n",
       "\n",
       "    .dataframe tbody tr th {\n",
       "        vertical-align: top;\n",
       "    }\n",
       "\n",
       "    .dataframe thead th {\n",
       "        text-align: right;\n",
       "    }\n",
       "</style>\n",
       "<table border=\"1\" class=\"dataframe\">\n",
       "  <thead>\n",
       "    <tr style=\"text-align: right;\">\n",
       "      <th></th>\n",
       "      <th>movieId</th>\n",
       "      <th>avg_rating</th>\n",
       "      <th>num_ratings</th>\n",
       "    </tr>\n",
       "  </thead>\n",
       "  <tbody>\n",
       "    <tr>\n",
       "      <th>43805</th>\n",
       "      <td>169338</td>\n",
       "      <td>5.0</td>\n",
       "      <td>2</td>\n",
       "    </tr>\n",
       "    <tr>\n",
       "      <th>51585</th>\n",
       "      <td>187729</td>\n",
       "      <td>5.0</td>\n",
       "      <td>1</td>\n",
       "    </tr>\n",
       "    <tr>\n",
       "      <th>45018</th>\n",
       "      <td>172149</td>\n",
       "      <td>5.0</td>\n",
       "      <td>1</td>\n",
       "    </tr>\n",
       "    <tr>\n",
       "      <th>40484</th>\n",
       "      <td>160966</td>\n",
       "      <td>5.0</td>\n",
       "      <td>1</td>\n",
       "    </tr>\n",
       "    <tr>\n",
       "      <th>30667</th>\n",
       "      <td>134387</td>\n",
       "      <td>5.0</td>\n",
       "      <td>1</td>\n",
       "    </tr>\n",
       "    <tr>\n",
       "      <th>20064</th>\n",
       "      <td>98437</td>\n",
       "      <td>5.0</td>\n",
       "      <td>1</td>\n",
       "    </tr>\n",
       "    <tr>\n",
       "      <th>30684</th>\n",
       "      <td>134433</td>\n",
       "      <td>5.0</td>\n",
       "      <td>1</td>\n",
       "    </tr>\n",
       "    <tr>\n",
       "      <th>45019</th>\n",
       "      <td>172151</td>\n",
       "      <td>5.0</td>\n",
       "      <td>1</td>\n",
       "    </tr>\n",
       "    <tr>\n",
       "      <th>30751</th>\n",
       "      <td>134605</td>\n",
       "      <td>5.0</td>\n",
       "      <td>1</td>\n",
       "    </tr>\n",
       "    <tr>\n",
       "      <th>30765</th>\n",
       "      <td>134633</td>\n",
       "      <td>5.0</td>\n",
       "      <td>1</td>\n",
       "    </tr>\n",
       "    <tr>\n",
       "      <th>40361</th>\n",
       "      <td>160624</td>\n",
       "      <td>5.0</td>\n",
       "      <td>1</td>\n",
       "    </tr>\n",
       "    <tr>\n",
       "      <th>51586</th>\n",
       "      <td>187731</td>\n",
       "      <td>5.0</td>\n",
       "      <td>1</td>\n",
       "    </tr>\n",
       "    <tr>\n",
       "      <th>30648</th>\n",
       "      <td>134346</td>\n",
       "      <td>5.0</td>\n",
       "      <td>1</td>\n",
       "    </tr>\n",
       "    <tr>\n",
       "      <th>40249</th>\n",
       "      <td>160329</td>\n",
       "      <td>5.0</td>\n",
       "      <td>1</td>\n",
       "    </tr>\n",
       "    <tr>\n",
       "      <th>40247</th>\n",
       "      <td>160325</td>\n",
       "      <td>5.0</td>\n",
       "      <td>1</td>\n",
       "    </tr>\n",
       "  </tbody>\n",
       "</table>\n",
       "</div>"
      ],
      "text/plain": [
       "       movieId  avg_rating  num_ratings\n",
       "43805   169338         5.0            2\n",
       "51585   187729         5.0            1\n",
       "45018   172149         5.0            1\n",
       "40484   160966         5.0            1\n",
       "30667   134387         5.0            1\n",
       "20064    98437         5.0            1\n",
       "30684   134433         5.0            1\n",
       "45019   172151         5.0            1\n",
       "30751   134605         5.0            1\n",
       "30765   134633         5.0            1\n",
       "40361   160624         5.0            1\n",
       "51586   187731         5.0            1\n",
       "30648   134346         5.0            1\n",
       "40249   160329         5.0            1\n",
       "40247   160325         5.0            1"
      ]
     },
     "execution_count": 13,
     "metadata": {},
     "output_type": "execute_result"
    }
   ],
   "source": [
    "# Get the average rating and count of ratings for each movie\n",
    "movie_ratings = df.groupby('movieId')['rating'].agg(['mean', 'count']).reset_index()\n",
    "movie_ratings.columns = ['movieId', 'avg_rating', 'num_ratings']\n",
    "highest_rated = movie_ratings.sort_values(by='avg_rating', ascending=False)\n",
    "highest_rated.head(15)"
   ]
  },
  {
   "cell_type": "code",
   "execution_count": 14,
   "id": "60465d77",
   "metadata": {},
   "outputs": [
    {
     "data": {
      "text/html": [
       "<div>\n",
       "<style scoped>\n",
       "    .dataframe tbody tr th:only-of-type {\n",
       "        vertical-align: middle;\n",
       "    }\n",
       "\n",
       "    .dataframe tbody tr th {\n",
       "        vertical-align: top;\n",
       "    }\n",
       "\n",
       "    .dataframe thead th {\n",
       "        text-align: right;\n",
       "    }\n",
       "</style>\n",
       "<table border=\"1\" class=\"dataframe\">\n",
       "  <thead>\n",
       "    <tr style=\"text-align: right;\">\n",
       "      <th></th>\n",
       "      <th>movieId</th>\n",
       "      <th>avg_rating</th>\n",
       "      <th>num_ratings</th>\n",
       "    </tr>\n",
       "  </thead>\n",
       "  <tbody>\n",
       "    <tr>\n",
       "      <th>50442</th>\n",
       "      <td>185055</td>\n",
       "      <td>0.5</td>\n",
       "      <td>1</td>\n",
       "    </tr>\n",
       "    <tr>\n",
       "      <th>48332</th>\n",
       "      <td>179867</td>\n",
       "      <td>0.5</td>\n",
       "      <td>1</td>\n",
       "    </tr>\n",
       "    <tr>\n",
       "      <th>36540</th>\n",
       "      <td>150122</td>\n",
       "      <td>0.5</td>\n",
       "      <td>1</td>\n",
       "    </tr>\n",
       "    <tr>\n",
       "      <th>28202</th>\n",
       "      <td>127048</td>\n",
       "      <td>0.5</td>\n",
       "      <td>1</td>\n",
       "    </tr>\n",
       "    <tr>\n",
       "      <th>30497</th>\n",
       "      <td>133941</td>\n",
       "      <td>0.5</td>\n",
       "      <td>2</td>\n",
       "    </tr>\n",
       "    <tr>\n",
       "      <th>50413</th>\n",
       "      <td>184991</td>\n",
       "      <td>0.5</td>\n",
       "      <td>1</td>\n",
       "    </tr>\n",
       "    <tr>\n",
       "      <th>48340</th>\n",
       "      <td>179885</td>\n",
       "      <td>0.5</td>\n",
       "      <td>1</td>\n",
       "    </tr>\n",
       "    <tr>\n",
       "      <th>34117</th>\n",
       "      <td>143397</td>\n",
       "      <td>0.5</td>\n",
       "      <td>1</td>\n",
       "    </tr>\n",
       "    <tr>\n",
       "      <th>38518</th>\n",
       "      <td>155481</td>\n",
       "      <td>0.5</td>\n",
       "      <td>1</td>\n",
       "    </tr>\n",
       "    <tr>\n",
       "      <th>36544</th>\n",
       "      <td>150148</td>\n",
       "      <td>0.5</td>\n",
       "      <td>1</td>\n",
       "    </tr>\n",
       "    <tr>\n",
       "      <th>30444</th>\n",
       "      <td>133810</td>\n",
       "      <td>0.5</td>\n",
       "      <td>1</td>\n",
       "    </tr>\n",
       "    <tr>\n",
       "      <th>44152</th>\n",
       "      <td>170255</td>\n",
       "      <td>0.5</td>\n",
       "      <td>2</td>\n",
       "    </tr>\n",
       "    <tr>\n",
       "      <th>40360</th>\n",
       "      <td>160614</td>\n",
       "      <td>0.5</td>\n",
       "      <td>1</td>\n",
       "    </tr>\n",
       "    <tr>\n",
       "      <th>44154</th>\n",
       "      <td>170259</td>\n",
       "      <td>0.5</td>\n",
       "      <td>2</td>\n",
       "    </tr>\n",
       "    <tr>\n",
       "      <th>36015</th>\n",
       "      <td>148749</td>\n",
       "      <td>0.5</td>\n",
       "      <td>2</td>\n",
       "    </tr>\n",
       "  </tbody>\n",
       "</table>\n",
       "</div>"
      ],
      "text/plain": [
       "       movieId  avg_rating  num_ratings\n",
       "50442   185055         0.5            1\n",
       "48332   179867         0.5            1\n",
       "36540   150122         0.5            1\n",
       "28202   127048         0.5            1\n",
       "30497   133941         0.5            2\n",
       "50413   184991         0.5            1\n",
       "48340   179885         0.5            1\n",
       "34117   143397         0.5            1\n",
       "38518   155481         0.5            1\n",
       "36544   150148         0.5            1\n",
       "30444   133810         0.5            1\n",
       "44152   170255         0.5            2\n",
       "40360   160614         0.5            1\n",
       "44154   170259         0.5            2\n",
       "36015   148749         0.5            2"
      ]
     },
     "execution_count": 14,
     "metadata": {},
     "output_type": "execute_result"
    }
   ],
   "source": [
    "highest_rated.tail(15)"
   ]
  },
  {
   "cell_type": "markdown",
   "id": "e7241170",
   "metadata": {},
   "source": [
    "### User Activity\n",
    "\n",
    "**Distribution of User Activity**   \n",
    "This histogram on the left illustrates the distribution of user activity within the MovieLens dataset. The horizontal axis represents the number of ratings given by users, while the vertical axis indicates the count of users who fall within each specific range or \"bin\" of rating activity. As observed from this plot, the majority of users tend to give relatively fewer ratings, with a peak in the lower range of ratings provided.\n",
    "\n",
    "**Most Active Users**    \n",
    "On the right side, there is a bar plot displaying the top 15 most active users. The horizontal axis lists the User IDs of these highly active users, while the vertical axis shows the number of ratings each user has given. This plot highlights a subset of users who have rated a significantly larger number of movies compared to the majority of users in the dataset.\n"
   ]
  },
  {
   "cell_type": "code",
   "execution_count": 15,
   "id": "cb08e093",
   "metadata": {},
   "outputs": [
    {
     "data": {
      "image/png": "[encoded data removed]",
      "text/plain": [
       "<Figure size 936x432 with 2 Axes>"
      ]
     },
     "metadata": {},
     "output_type": "display_data"
    }
   ],
   "source": [
    "# Extract user rating counts\n",
    "user_rating_counts = df['userId'].value_counts().reset_index()\n",
    "user_rating_counts.columns = ['userId', 'rating_count']\n",
    "user_rating_counts = user_rating_counts.sort_values(by='rating_count', ascending=False)\n",
    "\n",
    "plt.figure(figsize=(13,6))\n",
    "plt.subplot(1, 2, 1)\n",
    "plt.hist(user_rating_counts['rating_count'], bins=50, color ='#E5E5E5', edgecolor='k')\n",
    "plt.xlabel('Number of Ratings by User')\n",
    "plt.ylabel('Number of Users')\n",
    "plt.title('Distribution of User Activity')\n",
    "\n",
    "# Get the top 10 most active users\n",
    "most_active = df['userId'].value_counts().head(15).reset_index()\n",
    "most_active.columns = ['userId', 'count']\n",
    "most_active = most_active.sort_values(by='count', ascending=False)\n",
    "\n",
    "plt.subplot(1, 2, 2)\n",
    "plt.title(\"Most Active Users\")\n",
    "sns.barplot(x='userId', y='count', data=most_active, color=\"#E5E5E5\", edgecolor='k', order=most_active['userId'])\n",
    "plt.xlabel('User ID')\n",
    "plt.xticks(rotation=45) \n",
    "plt.ylabel('Number of Ratings')\n",
    "plt.tight_layout()\n",
    "plt.show()"
   ]
  },
  {
   "cell_type": "markdown",
   "id": "1dd8eb0d",
   "metadata": {},
   "source": [
    "### Top-k Frequency Plot    \n",
    "\n",
    "The plot below visualizes the relative frequency of the top-k most frequently rated movies in the MovieLens dataset. \n",
    "The horizontal axis represents the top-k movies, where k is a specified number (in this case, 5000). These are the movies with the highest number of ratings. The vertical axis represents the relative frequency, which is a normalized measure of how often each of the top-k movies appears in the dataset. It's essentially the proportion of ratings that belong to each of these top movies relative to the total number of ratings in the dataset. The orange line plot shows how the relative frequency changes as you move through the top-k movies. Each point on the line represents one of these movies, ordered by their frequency, starting with the most frequently rated."
   ]
  },
  {
   "cell_type": "code",
   "execution_count": 16,
   "id": "ee31bf87",
   "metadata": {},
   "outputs": [
    {
     "data": {
      "image/png": "[encoded data removed]",
      "text/plain": [
       "<Figure size 576x396 with 1 Axes>"
      ]
     },
     "metadata": {},
     "output_type": "display_data"
    }
   ],
   "source": [
    "def plot_frequency(df, k):\n",
    "    \n",
    "    fig, ax = plt.subplots(figsize=(8,5.5))\n",
    "    counts = df['movieId'].value_counts(sort=True, ascending=False)\n",
    "    orig = counts.index.tolist()\n",
    "    counts2 = counts.reset_index(inplace=False, drop=True)\n",
    "    sub = counts2.index.tolist()\n",
    "\n",
    "    sns.lineplot(x=counts2.index[0:k], y=counts2[0:k]/counts2[0:k].sum(), ax=ax, color='#FF5F1F')\n",
    "    ax.fill_between(counts2.index[0:k], counts2[0:k]/counts2[0:k].sum(), alpha=0.5, color='#FF5F1F')\n",
    "    ax.set_ylabel(\"Relative Frequency\")\n",
    "    ax.set_xlabel(\"Top-k\")\n",
    "\n",
    "plot_frequency(df, k=5000)"
   ]
  },
  {
   "cell_type": "markdown",
   "id": "02122960",
   "metadata": {},
   "source": [
    "### Distribution of Ratings Over Time \n",
    "\n",
    "The distribution of ratings exhibits a pronounced peak in the most recent year. Just prior to the year 2015, there is a minor decrease in the count of ratings. Apart from this dip, the number of ratings remains relatively stable over time."
   ]
  },
  {
   "cell_type": "code",
   "execution_count": 17,
   "id": "6acc3ee3",
   "metadata": {},
   "outputs": [
    {
     "data": {
      "image/png": "[encoded data removed]",
      "text/plain": [
       "<Figure size 864x432 with 1 Axes>"
      ]
     },
     "metadata": {},
     "output_type": "display_data"
    }
   ],
   "source": [
    "# Convert the 'timestamp' column to a datetime object\n",
    "df['timestamp'] = pd.to_datetime(df['timestamp'], unit='s')\n",
    "\n",
    "# Create a histogram plot of the count of ratings across the timestamp column\n",
    "plt.figure(figsize=(12, 6))\n",
    "ax = df['timestamp'].dt.year.plot.hist(bins=20, edgecolor='k', color=\"#E5E5E5\")\n",
    "ax.yaxis.set_major_formatter(ticker.FuncFormatter(lambda x, pos: f'{int(x):}'))\n",
    "plt.xlabel('Year')\n",
    "plt.ylabel('Count of Ratings')\n",
    "plt.title('Distribution of Ratings Over Time')\n",
    "plt.show()"
   ]
  },
  {
   "cell_type": "markdown",
   "id": "d534c514",
   "metadata": {},
   "source": [
    "---\n",
    "\n",
    "## Reducing the size of the dataset\n",
    "### Pruning\n",
    "Data pruning is a common practice in recommender systems research, involving the removal of instances from a dataset that would not be removed in real-world scenarios when used by recommender systems in production environments ([Beel & Brunel, 2017](chrome-extension://efaidnbmnnnibpcajpcglclefindmkaj/https://ceur-ws.org/Vol-2431/paper6.pdf)). Reasons for data pruning vary and include considerations such as user interests (e.g., data privacy) or business interests. It is distinct from data cleaning, like outlier removal, which is typically a prerequisite for effective training of recommender system and machine learning algorithms but doesn't directly affect algorithm performance ([Beel & Brunel, 2017](chrome-extension://efaidnbmnnnibpcajpcglclefindmkaj/https://ceur-ws.org/Vol-2431/paper6.pdf)).\n",
    "\n",
    "In the context of the MovieLens dataset, data pruning often involves excluding ratings from users who rated fewer than  a certain number of movies ([Beel & Brunel, 2017](chrome-extension://efaidnbmnnnibpcajpcglclefindmkaj/https://ceur-ws.org/Vol-2431/paper6.pdf)). This is done because researchers need a sufficient number of ratings to evaluate algorithms, and it allows for a mix of training and test data. Additionally, early user ratings are influenced by the startup algorithm, making them less suitable for evaluation.\n",
    "\n",
    "Individual researchers also engage in data pruning, as exemplified by [Caragea et al.](https://dl.acm.org/doi/10.1145/2467696.2467743) (2013), who pruned the CiteSeer corpus by removing research papers with fewer than ten or more than 100 citations, among other criteria. Similar practices were followed by [Pennock et al.](https://arxiv.org/abs/1301.3885) (2013) resulting in a significantly reduced dataset for their research ([Beel & Brunel, 2017](chrome-extension://efaidnbmnnnibpcajpcglclefindmkaj/https://ceur-ws.org/Vol-2431/paper6.pdf))."
   ]
  },
  {
   "cell_type": "markdown",
   "id": "5e1c6598",
   "metadata": {},
   "source": [
    "### Select Recent Ratings\n",
    "In data analysis, the relevance and recency of data are crucial for meaningful insights. Over time, movie preferences and audience tastes evolve. By concentrating on the most recent 10 years, we gain insight into the contemporary movie landscape and the choices of today's audiences. This allows us to provide recommendations that are better aligned with current trends. Besides, the entertainment industry has witnessed significant technological advancements, such as the rise of streaming platforms and the availability of high-definition content. To account for these changes, it's essential to consider data from the past 10 years, during which these developments have greatly impacted the movie-watching experience. Moreover, large datasets can pose computational challenges. By narrowing our focus to the most recent 10 years, we strike a balance between retaining valuable insights and managing the dataset's size, making it more computationally manageable without significantly sacrificing the quality of our analysis. Lastly, ratings of older movies might be less reliable due to fading memories, personal biases, or changes in reviewing standards. The more recent data ensures a higher degree of accuracy in capturing users' actual opinions."
   ]
  },
  {
   "cell_type": "code",
   "execution_count": 18,
   "id": "dcc20804",
   "metadata": {},
   "outputs": [],
   "source": [
    "df = df.sort_values(by='timestamp', ascending=False)\n",
    "\n",
    "start_date = pd.to_datetime('2008-01-01')\n",
    "end_date = pd.to_datetime('2018-12-31')\n",
    "recent_ratings_df = df[(df['timestamp'] >= start_date) & (df['timestamp'] <= end_date)]"
   ]
  },
  {
   "cell_type": "code",
   "execution_count": 19,
   "id": "4c1014d6",
   "metadata": {},
   "outputs": [
    {
     "data": {
      "text/plain": [
       "Text(0.5, 1.0, 'Distribution of Ratings Over Time')"
      ]
     },
     "execution_count": 19,
     "metadata": {},
     "output_type": "execute_result"
    },
    {
     "data": {
      "image/png": "[encoded data removed]",
      "text/plain": [
       "<Figure size 576x432 with 1 Axes>"
      ]
     },
     "metadata": {},
     "output_type": "display_data"
    }
   ],
   "source": [
    "# Create a histogram plot of the count of ratings across the timestamp column\n",
    "plt.figure(figsize=(8, 6))\n",
    "ax = recent_ratings_df['timestamp'].dt.year.plot.hist(bins=10, edgecolor='k', color=\"#E5E5E5\")\n",
    "ax.yaxis.set_major_formatter(ticker.FuncFormatter(lambda x, pos: f'{int(x):,}'))\n",
    "plt.xlabel('Year')\n",
    "plt.ylabel('Count of Ratings')\n",
    "plt.title('Distribution of Ratings Over Time')"
   ]
  },
  {
   "cell_type": "markdown",
   "id": "f0121941",
   "metadata": {},
   "source": [
    "The figure below displays the rating distribution for the past decade. Note that that this distribution resembles the one observed in the initial dataset, spanning the entire time frame. This similarity once more underscores the rationale for concentrating on the most recent 10 years. Doing so not only reduces computational demands by employing a smaller dataset but also maintains a comparable rating distribution."
   ]
  },
  {
   "cell_type": "code",
   "execution_count": 20,
   "id": "be18fd49",
   "metadata": {},
   "outputs": [
    {
     "data": {
      "image/png": "[encoded data removed]",
      "text/plain": [
       "<Figure size 576x432 with 1 Axes>"
      ]
     },
     "metadata": {},
     "output_type": "display_data"
    }
   ],
   "source": [
    "# Create distribution plot for movie ratings\n",
    "plt.figure(figsize=(8, 6))\n",
    "ax = sns.histplot(data=recent_ratings_df, x=\"rating\", bins=10, edgecolor='k', color=\"#E5E5E5\")\n",
    "ax.set(title=\"Distribution of Movie Ratings\", ylabel=\"Count\", xlabel=\"Movie Rating\")\n",
    "ax.yaxis.set_major_formatter(ticker.FuncFormatter(lambda x, pos: f'{int(x):}'))"
   ]
  },
  {
   "cell_type": "code",
   "execution_count": 21,
   "id": "b71309c6",
   "metadata": {},
   "outputs": [
    {
     "name": "stdout",
     "output_type": "stream",
     "text": [
      "unique users: 131589\n",
      "unique movies: 53846\n"
     ]
    },
    {
     "data": {
      "text/plain": [
       "(13074833, 4)"
      ]
     },
     "execution_count": 21,
     "metadata": {},
     "output_type": "execute_result"
    }
   ],
   "source": [
    "unique_users = len(recent_ratings_df['userId'].unique())\n",
    "unique_movie = len(recent_ratings_df['movieId'].unique())\n",
    "\n",
    "print('unique users: ' + str(unique_users)) \n",
    "print('unique movies: ' + str(unique_movie))\n",
    "\n",
    "recent_ratings_df.shape"
   ]
  },
  {
   "cell_type": "markdown",
   "id": "1ae63d83",
   "metadata": {},
   "source": [
    "### Select Top-k Items \n",
    "The graph illustrates the impact of different k values on the size of a DataFrame. The k values represent the top k most frequently occurring movie IDs in the dataset. As k increases, meaning more movies are considered, the number of rows in the DataFrame also increases. This trend reflects the selection of movies that have more ratings, and thus, a higher k value results in more rows in the DataFrame. It's essential for understanding how the DataFrame size varies with different k values when dealing with large datasets and deciding how many movies to include in the analysis based on their popularity or frequency in the dataset."
   ]
  },
  {
   "cell_type": "code",
   "execution_count": 22,
   "id": "3136b939",
   "metadata": {},
   "outputs": [
    {
     "data": {
      "image/png": "[encoded data removed]",
      "text/plain": [
       "<Figure size 576x396 with 1 Axes>"
      ]
     },
     "metadata": {},
     "output_type": "display_data"
    }
   ],
   "source": [
    "df = recent_ratings_df\n",
    "\n",
    "def select(df, k, col):\n",
    "    top_values = df[col].value_counts().nlargest(k)\n",
    "    return df.loc[df[col].isin(top_values.index)]\n",
    "\n",
    "def select_and_report(df, col, k_values):\n",
    "    results = {}\n",
    "    \n",
    "    for k in k_values:\n",
    "        selected_df = select(df, k, col)\n",
    "        results[k] = len(selected_df)\n",
    "    \n",
    "    return results\n",
    "\n",
    "# K values to try\n",
    "k_values_to_try = [100, 500, 1000, 2000, 3000,5000]\n",
    "results_dict = select_and_report(df, col='movieId', k_values=k_values_to_try)\n",
    "\n",
    "# Extract k values and corresponding number of rows\n",
    "k_values = list(results_dict.keys())\n",
    "num_rows = list(results_dict.values())\n",
    "\n",
    "# Create a line plot\n",
    "plt.figure(figsize=(8,5.5))\n",
    "ax = sns.lineplot(x=k_values, y=num_rows, marker='o', linestyle='-', color='#FF5F1F')\n",
    "ax.set(title='Impact of Different k Values on DataFrame Size', ylabel='Number of rows', xlabel='k values')\n",
    "ax.yaxis.set_major_formatter(ticker.FuncFormatter(lambda x, pos: f'{int(x):,}'))\n",
    "plt.show()"
   ]
  },
  {
   "cell_type": "code",
   "execution_count": 23,
   "id": "ca8731fa",
   "metadata": {},
   "outputs": [
    {
     "name": "stdout",
     "output_type": "stream",
     "text": [
      "{100: 2369697, 500: 5931111, 1000: 8031304, 2000: 10153620, 3000: 11139014, 5000: 12011589}\n"
     ]
    }
   ],
   "source": [
    "print(results_dict)"
   ]
  },
  {
   "cell_type": "markdown",
   "id": "5dcaee0e",
   "metadata": {},
   "source": [
    "    For k = 100, the resulting DataFrame has 2,369,697 rows.\n",
    "    For k = 500, the resulting DataFrame has 5,931,111 rows.\n",
    "    For k = 1000, the resulting DataFrame has 8,031,304 rows.\n",
    "    For k = 2000, the resulting DataFrame has 10,153,620 rows.\n",
    "    For k = 3000, the resulting DataFrame has 11,139,014 rows.\n",
    "    For k = 5000, the resulting DataFrame has 12,011,589 rows.\n",
    "    "
   ]
  },
  {
   "cell_type": "markdown",
   "id": "915cff5f",
   "metadata": {},
   "source": [
    "k = 1500 strikes a balance between coverage and granularity. It is large enough to provide a comprehensive view of the dataset, capturing a significant portion of items, while still being manageable for analysis. Processing is likely to be more efficient compared to larger values of k, especially the number of rows included provides a better coverage of the data, also with a larger k coverage is not improved. Anything more than k = 1500 might result in a dataset that is too large for practical analysis, both in terms of computation and interpretability. k = 1500 strikes a balance by offering a detailed subset without overwhelming the analysis.\n",
    "\n",
    "Determining the ideal k value hinges on the unique goals and limitations of your analysis or recommendation system. the choice of k = 1500 as the best option is based on the consideration of a balance between coverage, granularity and computational efficiency. It is crucial to assess these aspects in the context of your project and domain expertise for a well-informed decision ([Karpus et al., 2017](https://annals-csis.org/Volume_11/drp/pdf/258.pdf))."
   ]
  },
  {
   "cell_type": "code",
   "execution_count": 24,
   "id": "c87ce6a0",
   "metadata": {},
   "outputs": [],
   "source": [
    "df = select(df, k=1500, col='movieId') "
   ]
  },
  {
   "cell_type": "markdown",
   "id": "3d6f4065",
   "metadata": {},
   "source": [
    "### Select Users\n",
    "The graph below demonstrates the relationship between memory usage and different user rating thresholds in a DataFrame. The user rating threshold represents the minimum number of ratings a user must have provided to be included in the analysis. As the threshold increases, signifying that users with fewer ratings are excluded, the memory usage of the DataFrame decreases. This reduction in memory usage is due to the removal of users with fewer ratings, resulting in a smaller subset of data. The graph provides insights into how adjusting the user rating threshold impacts the memory requirements for processing and storing the data, which is essential for optimizing computational resources and efficiently working with our large dataset.\n",
    "\n",
    "As we have seen previously, the user-rating distribution in the MovieLens dataset used in this assignment exhibits a long-tail pattern. Many users have provided only a few ratings, while a smaller number of users have rated a substantial number of movies. Selecting users based on a specific rating threshold is a valuable strategy, as it allows us to focus our analysis on users with a more substantial contribution to the dataset. This approach is particularly useful in addressing computational challenges associated with the analysis of large datasets, as it significantly reduces memory and processing requirements by excluding users with minimal ratings. This approach is in line with the approach by Beel and Brunel ([2017](chrome-extension://efaidnbmnnnibpcajpcglclefindmkaj/https://ceur-ws.org/Vol-2431/paper6.pdf)).\n",
    "\n",
    "Another reason to prune the dataset by selecting users who have rated less than a certain number of moves is to improve the quality of the recommendations. Users who have rated very few items might not provide enough data to make meaningful recommendations for them."
   ]
  },
  {
   "cell_type": "code",
   "execution_count": 25,
   "id": "0d415621",
   "metadata": {},
   "outputs": [
    {
     "data": {
      "image/png": "[encoded data removed]",
      "text/plain": [
       "<Figure size 576x396 with 1 Axes>"
      ]
     },
     "metadata": {},
     "output_type": "display_data"
    }
   ],
   "source": [
    "# User counts\n",
    "user_rating_counts = df['userId'].value_counts()\n",
    "\n",
    "# Define the range of thresholds\n",
    "thresholds = [10, 50, 100, 200, 400, 600, 800, 1000]\n",
    "\n",
    "# Initialize lists to store memory usage and corresponding thresholds\n",
    "memory_usage = []\n",
    "threshold_values = []\n",
    "\n",
    "# Iterate through thresholds and filter the DataFrame\n",
    "for threshold in thresholds:\n",
    "    valid_user_ids = user_rating_counts[user_rating_counts > threshold].index\n",
    "    filtered_df = df[df['userId'].isin(valid_user_ids)]\n",
    "    \n",
    "    # Append memory usage and threshold to lists\n",
    "    memory_usage.append(filtered_df.memory_usage().sum() / (1024**2))  # Convert to MB\n",
    "    threshold_values.append(threshold)\n",
    "\n",
    "# Create a line plot\n",
    "plt.figure(figsize=(8,5.5))\n",
    "ax = sns.lineplot(x=threshold_values, y=memory_usage, marker='o', linestyle='-', color='#FF5F1F')\n",
    "ax.set(title='Memory Usage vs. User Rating Threshold', ylabel='Memory Usage (MB)', xlabel='User Rating Threshold')\n",
    "ax.yaxis.set_major_formatter(ticker.FuncFormatter(lambda x, pos: f'{int(x):,}'))\n",
    "plt.show()"
   ]
  },
  {
   "cell_type": "markdown",
   "id": "ccc15379",
   "metadata": {},
   "source": [
    "In selecting an appropriate threshold for user ratings in the MovieLens dataset, our primary concern was the computational expensiveness associated with analyzing a vast amount of data. After evaluating different threshold values, it became evident that setting the threshold at 400 was an optimal choice. At this threshold, we strike a balance between retaining a substantial portion of the dataset while significantly reducing the computational resources required for analysis. With a threshold of 400, we retain the most active users who have rated a considerable number of movies, ensuring that our analysis remains meaningful and that we capture valuable user-item interactions. Simultaneously, this choice allows us to alleviate the computational burden, making the analysis more feasible without compromising the integrity of the dataset. The memory usage dropped notably from 175.49 MB with a threshold of 200 to 81.51 MB with a threshold of 400, demonstrating the substantial impact of this threshold in optimizing computational efficiency while retaining essential data for analysis."
   ]
  },
  {
   "cell_type": "code",
   "execution_count": 26,
   "id": "a3cf9c6b",
   "metadata": {},
   "outputs": [],
   "source": [
    "# Find the user IDs with more than 400 ratings\n",
    "valid_user_ids = user_rating_counts[user_rating_counts > 400].index\n",
    "filtered_df = df[df['userId'].isin(valid_user_ids)]"
   ]
  },
  {
   "cell_type": "code",
   "execution_count": 27,
   "id": "17e2e164",
   "metadata": {
    "scrolled": true
   },
   "outputs": [
    {
     "name": "stdout",
     "output_type": "stream",
     "text": [
      "<class 'pandas.core.frame.DataFrame'>\n",
      "Int64Index: 2136785 entries, 8060104 to 19172453\n",
      "Data columns (total 4 columns):\n",
      " #   Column     Dtype         \n",
      "---  ------     -----         \n",
      " 0   userId     int64         \n",
      " 1   movieId    int64         \n",
      " 2   rating     float64       \n",
      " 3   timestamp  datetime64[ns]\n",
      "dtypes: datetime64[ns](1), float64(1), int64(2)\n",
      "memory usage: 81.5 MB\n"
     ]
    }
   ],
   "source": [
    "filtered_df.info()"
   ]
  },
  {
   "cell_type": "code",
   "execution_count": 28,
   "id": "519c2fde",
   "metadata": {},
   "outputs": [
    {
     "name": "stdout",
     "output_type": "stream",
     "text": [
      "unique users: 3714\n",
      "unique movies: 1500\n"
     ]
    },
    {
     "data": {
      "text/plain": [
       "(2136785, 4)"
      ]
     },
     "execution_count": 28,
     "metadata": {},
     "output_type": "execute_result"
    }
   ],
   "source": [
    "unique_users = len(filtered_df['userId'].unique())\n",
    "unique_movie = len(filtered_df['movieId'].unique())\n",
    "\n",
    "print('unique users: ' + str(unique_users)) \n",
    "print('unique movies: ' + str(unique_movie))\n",
    "\n",
    "filtered_df.shape"
   ]
  },
  {
   "cell_type": "markdown",
   "id": "1232c1e9",
   "metadata": {},
   "source": [
    "---"
   ]
  },
  {
   "cell_type": "markdown",
   "id": "b08622ef",
   "metadata": {},
   "source": [
    "## Part II: Recommender System Models"
   ]
  },
  {
   "cell_type": "markdown",
   "id": "bdf4538d",
   "metadata": {},
   "source": [
    "In order to apply the strategy of optimizing hyperparameters on a smaller dataset and subsequently using those configurations to build the final model on a larger dataset, the following steps were followed:\n",
    "\n",
    "1. **Dataset Splitting**: The entire dataset was divided into two parts: a smaller dataset (10% of the data) and a larger dataset (the remaining data). It was ensured that the smaller dataset maintained the same distribution as the larger one.\n",
    "\n",
    "2. **Model Selection**: In this step, the neighborhood-based and matrix factorization-based models available through the scikit-surprise package were considered. The choice of model was informed by a evaluation of each model's suitability to our dataset, as well as a review of their documented performance in existing literature.\n",
    "\n",
    "3. **Hyperparameter Tuning on Smaller Dataset**: After choosing the models, grid search was used to fine-tune the chosen algorithm. This was done using the smaller dataset. \n",
    "\n",
    "4. **Application of Best Hyperparameters to Larger Dataset**: After identifying the best hyperparameters for the selected algorithms on the smaller dataset, these hyperparameters were applied to train the final models on the larger dataset. This ensures that the final model is built on a dataset with a decent size while benefiting from the optimal configuration based on the smaller dataset."
   ]
  },
  {
   "cell_type": "markdown",
   "id": "76cf50ce",
   "metadata": {},
   "source": [
    "### Splitting the Data\n",
    "When splitting the larger dataset into smaller and larger parts, random sampling was used. This involved the random selection of a subset of data points to constitute the smaller dataset, ensuring that each data point had an equal probability of being chosen. This approach was chosen to preserve the statistical characteristics of the original dataset. To enhance the assurance that the smaller dataset maintains a consistent distribution with the larger dataset, the distribution of the ratings of the two datasets was visually examined through histograms. These histograms show that the distributions of the smaller and larger dataset are almost identical."
   ]
  },
  {
   "cell_type": "code",
   "execution_count": 30,
   "id": "d519720b",
   "metadata": {},
   "outputs": [
    {
     "name": "stderr",
     "output_type": "stream",
     "text": [
      "/opt/anaconda3/lib/python3.8/site-packages/pandas/core/frame.py:4308: SettingWithCopyWarning: \n",
      "A value is trying to be set on a copy of a slice from a DataFrame\n",
      "\n",
      "See the caveats in the documentation: https://pandas.pydata.org/pandas-docs/stable/user_guide/indexing.html#returning-a-view-versus-a-copy\n",
      "  return super().drop(\n"
     ]
    }
   ],
   "source": [
    "filtered_df.drop(columns=['timestamp'], inplace=True)\n",
    "\n",
    "# Randomly shuffle the data\n",
    "shuffled_data = filtered_df.sample(frac=1, random_state=42).reset_index(drop=True)\n",
    "\n",
    "# Split the data\n",
    "smaller_data = shuffled_data[:int(len(shuffled_data) * 0.1)]\n",
    "larger_data = shuffled_data[int(len(shuffled_data) * 0.1):]"
   ]
  },
  {
   "cell_type": "code",
   "execution_count": 31,
   "id": "f6d54bfe",
   "metadata": {},
   "outputs": [
    {
     "data": {
      "image/png": "[encoded data removed]",
      "text/plain": [
       "<Figure size 936x432 with 2 Axes>"
      ]
     },
     "metadata": {},
     "output_type": "display_data"
    }
   ],
   "source": [
    "# Create subplots\n",
    "fig, axes = plt.subplots(1, 2, figsize=(13, 6))\n",
    "\n",
    "# Create distribution plot for movie ratings - smaller_data\n",
    "sns.histplot(data=smaller_data, x=\"rating\", bins=10, edgecolor='k', color=\"#E5E5E5\", ax=axes[0])\n",
    "axes[0].set(title=\"Smaller Data: Distribution of Movie Ratings\", ylabel=\"Count\", xlabel=\"Movie Rating\")\n",
    "axes[0].yaxis.set_major_formatter(ticker.FuncFormatter(lambda x, pos: f'{int(x):}'))\n",
    "\n",
    "# Create distribution plot for movie ratings - larger_data\n",
    "sns.histplot(data=larger_data, x=\"rating\", bins=10, edgecolor='k', color=\"#E5E5E5\", ax=axes[1])\n",
    "axes[1].set(title=\"Larger Data: Distribution of Movie Ratings\", ylabel=\"Count\", xlabel=\"Movie Rating\")\n",
    "axes[1].yaxis.set_major_formatter(ticker.FuncFormatter(lambda x, pos: f'{int(x):}'))\n",
    "\n",
    "# Display the subplots\n",
    "plt.tight_layout()\n",
    "plt.show()"
   ]
  },
  {
   "cell_type": "markdown",
   "id": "96cdfdad",
   "metadata": {},
   "source": [
    "**Correct Format of Data (According to Surprise Principles)**    \n",
    "Until now, we've loaded our data as a Pandas dataframe from a CSV file. However, as indicated in the tutorial introduction notebook on [Canvas](https://tilburguniversity.instructure.com/courses/14982/files/2575499?module_item_id=586691), when working with recommender system algorithms, it's essential to create a proper Dataset to feed the data into these algorithms. Hence, we will make use of the `load_from_df` function. This process involves two main steps.\n",
    "\n",
    "Firstly, we create a `Reader` object, which is responsible for parsing a file containing ratings. If the data is loaded directly from a file, the input file is expected to have one rating per line, following this structure: `user` ; `movieId` ; `rating`. In either case, we need to configure the `rating_scale` parameter to indicate the rating scale used in our dataset: 1-5. Secondly, we specify the column names and create the dataset object."
   ]
  },
  {
   "cell_type": "code",
   "execution_count": 32,
   "id": "7d5a4798",
   "metadata": {},
   "outputs": [],
   "source": [
    "# A reader is still needed but only the rating_scale param is required.\n",
    "reader = Reader(rating_scale=(0.5, 5))\n",
    "\n",
    "# The columns must correspond to user id, item id and ratings (in that order).\n",
    "smaller_dataset = Dataset.load_from_df(smaller_data[['userId', 'movieId', 'rating']], reader)"
   ]
  },
  {
   "cell_type": "code",
   "execution_count": 33,
   "id": "302c5f76",
   "metadata": {},
   "outputs": [],
   "source": [
    "# A reader is still needed but only the rating_scale param is required.\n",
    "reader = Reader(rating_scale=(0.5, 5))\n",
    "\n",
    "# The columns must correspond to user id, item id and ratings (in that order).\n",
    "larger_dataset = Dataset.load_from_df(larger_data[['userId', 'movieId', 'rating']], reader)"
   ]
  },
  {
   "cell_type": "markdown",
   "id": "0cca938e",
   "metadata": {},
   "source": [
    "--- \n",
    "\n",
    "### Baseline Model: Normal Predictor\n",
    "The assigned baseline model for this assignment is called `NormalPredictor`. This algorithm predicts a random rating based on the distribution of the training set, which is assumed to be normal. The prediction $\\hat{r}_{ui}$ is generated from a normal distribution $\\mathcal{N}(\\hat{\\mu}, \\hat{\\sigma}^2)$ where \n",
    "$\\hat{\\mu}$ and $\\hat{\\sigma}$ are estimated from the training data using Maximum Likelihood Estimation ([Surprise](https://surprise.readthedocs.io/en/stable/basic_algorithms.html)):"
   ]
  },
  {
   "cell_type": "markdown",
   "id": "db5c1e38",
   "metadata": {},
   "source": [
    "\\\\begin{split}\\hat{\\mu} &= \\frac{1}{|R_{train}|} \\sum_{r_{ui} \\in R_{train}} r_{ui}\\\\\\\\ \\hat{\\sigma} &= \\sqrt{\\sum_{r_{ui} \\in R_{train}} \\frac{(r_{ui} - \\hat{\\mu})^2}{|R_{train}|}}\\end{split}"
   ]
  },
  {
   "cell_type": "markdown",
   "id": "5080ecac",
   "metadata": {},
   "source": [
    "For this model, we will only use the larger dataset, because the baseline model involves no hyperparameter tuning."
   ]
  },
  {
   "cell_type": "code",
   "execution_count": 34,
   "id": "00a140ea",
   "metadata": {},
   "outputs": [],
   "source": [
    "cv = KFold(n_splits=5, random_state=42, shuffle=True)\n",
    "\n",
    "start_time = time.time()\n",
    "results_normalpredictor = cross_validate(NormalPredictor(), larger_dataset, cv=cv, return_train_measures=True)\n",
    "end_time = time.time()\n",
    "elapsed_time_normal_predictor = end_time - start_time"
   ]
  },
  {
   "cell_type": "markdown",
   "id": "ead2a95a",
   "metadata": {},
   "source": [
    "### Evaluation Metrics\n",
    "Root Mean Squared Error (RMSE) for evaluating recommendation systems is commonly applied in most context due to its sensitivity to both overestimations and underestimations, simplicity in computation, widespread adoption, and meaningful representation of overall prediction accuracy ([Zeshan et al, 2020](https://www.mdpi.com/2076-3417/10/21/7748)).\n",
    "\n",
    "Mean Absolute Error (MAE) is an another evaluation metric commonly recommended for recommender systems because it provides a straightforward and interpretable measure of the average absolute errors in the predicted ratings. Unlike RMSE, MAE is less sensitive to extreme outliers, making it robust in the presence of large errors ([Shinde et al, 2015](https://www.semanticscholar.org/paper/Survey-on-Evaluation-of-Recommender-Systems-Shinde-Potey/a38548d76d4c05809daa22472599055bbdd8fec3)). \n",
    "\n",
    "These two evaluation metrics are chosen as they best facilitiate comparisons between different algorithms, assess different types of errors, provide straightforward interpretability, and are sensetive to prediction errors. "
   ]
  },
  {
   "cell_type": "code",
   "execution_count": 35,
   "id": "f354c030",
   "metadata": {},
   "outputs": [
    {
     "name": "stdout",
     "output_type": "stream",
     "text": [
      "Average RMSE NormalPredictor: 1.3979\n",
      "Average MAE NormalPredictor: 1.1127\n",
      "Elapsed time for NormalPredictor: 3.22 minutes\n"
     ]
    }
   ],
   "source": [
    "rmse_NormalPredictor_array = np.array(results_normalpredictor['test_rmse'])\n",
    "mae_NormalPredictor_array = np.array(results_normalpredictor['test_mae'])\n",
    "print('Average RMSE NormalPredictor:', round(np.mean(rmse_NormalPredictor_array), 4))\n",
    "print('Average MAE NormalPredictor:', round(np.mean(mae_NormalPredictor_array), 4))\n",
    "print(f'Elapsed time for NormalPredictor: {(elapsed_time_normal_predictor/60):.2f} minutes')"
   ]
  },
  {
   "cell_type": "markdown",
   "id": "0631d2a3",
   "metadata": {},
   "source": [
    "---"
   ]
  },
  {
   "cell_type": "markdown",
   "id": "b8c13dbe",
   "metadata": {},
   "source": [
    "### Model 1: Neighborhood-Based Method"
   ]
  },
  {
   "cell_type": "markdown",
   "id": "318720ee",
   "metadata": {},
   "source": [
    "The following neighborhood-based algortihms are considered in this assignment: (1) knns.KNNBasic, (2) knns.KNNWithMeans, (3) knns.KNNWithZscore, and (4) knns.KNNBaseline. These algorithms are available under the [Surprise](https://surprise.readthedocs.io/en/stable/basic_algorithms.html) package. \n",
    "\n",
    "---\n",
    "\n",
    "**knns.KNNBasic**    \n",
    "This algorithm is a basic collaborative filtering algorithm. The prediction $\\hat{r}_{ui}$ is set as:\n",
    "\n",
    "$\\hat{r}_{ui} = \\frac{\\sum\\limits_{v \\in N^k_i(u)} \\text{sim}(u, v) \\cdot r_{vi}} {\\sum\\limits_{v \\in N^k_i(u)} \\text{sim}(u, v)}$\n",
    "\n",
    "The algorithm considers the following parameters ([Surprise](https://surprise.readthedocs.io/en/stable/knn_inspired.html)):\n",
    "\n",
    "* k (_int_) - The (max) number of neighbors to take into account for aggregation. \n",
    "* min_k (_int_) - The minimum number of neighbors to take into account for aggregation.\n",
    "* sim_options (_dict_) - A dictionary of options for the similarity measure.\n",
    "* verbose (_bool_) - Whether to print trace messages of bias estimation, similarity, etc. \n",
    "\n",
    "---\n",
    "     \n",
    "**knns.KNNWithMeans**    \n",
    "This is a basic collaborative filtering algorithm, taking into account the mean ratings of each user. The prediction $\\hat{r}_{ui}$ is set as:\n",
    "\n",
    "$\\hat{r}_{ui} = \\mu_u + \\frac{ \\sum\\limits_{v \\in N^k_i(u)}\n",
    "\\text{sim}(u, v) \\cdot (r_{vi} - \\mu_v)} {\\sum\\limits_{v \\in\n",
    "N^k_i(u)} \\text{sim}(u, v)}$\n",
    "\n",
    "The algorithm considers the following parameters ([Surprise](https://surprise.readthedocs.io/en/stable/knn_inspired.html)):\n",
    "\n",
    "* k (_int_) - The (max) number of neighbors to take into account for aggregation. \n",
    "* min_k (_int_) - The minimum number of neighbors to take into account for aggregation.\n",
    "* sim_options (_dict_) - A dictionary of options for the similarity measure.\n",
    "* verbose (_bool_) - Whether to print trace messages of bias estimation, similarity, etc. \n",
    "\n",
    "---\n",
    "\n",
    "**knns.KNNWithZscore**  \n",
    "This is a basic collaborative filtering algorithm, taking into account the z-score normalization of each user. The prediction $\\hat{r}_{ui}$ is set as:\n",
    "\n",
    "$\\hat{r}_{ui} = \\mu_u + \\sigma_u \\frac{ \\sum\\limits_{v \\in N^k_i(u)}\n",
    "\\text{sim}(u, v) \\cdot (r_{vi} - \\mu_v) / \\sigma_v} {\\sum\\limits_{v\n",
    "\\in N^k_i(u)} \\text{sim}(u, v)}$\n",
    "\n",
    "The algorithm considers the following parameters ([Surprise](https://surprise.readthedocs.io/en/stable/knn_inspired.html)):\n",
    "\n",
    "* k (_int_) - The (max) number of neighbors to take into account for aggregation. \n",
    "* min_k (_int_) - The minimum number of neighbors to take into account for aggregation.\n",
    "* sim_options (_dict_) - A dictionary of options for the similarity measure.\n",
    "* verbose (_bool_) - Whether to print trace messages of bias estimation, similarity, etc. \n",
    "\n",
    "---\n",
    "\n",
    "**knns.KNNBaseline**    \n",
    "This is a basic collaborative filtering algorithm, taking into account a baseline rating. The prediction $\\hat{r}_{ui}$ is set as:\n",
    "\n",
    "$\\hat{r}_{ui} = b_{ui} + \\frac{ \\sum\\limits_{v \\in N^k_i(u)}\n",
    "\\text{sim}(u, v) \\cdot (r_{vi} - b_{vi})} {\\sum\\limits_{v \\in\n",
    "N^k_i(u)} \\text{sim}(u, v)}$\n",
    "\n",
    "The algorithm considers the following parameters ([Surprise](https://surprise.readthedocs.io/en/stable/knn_inspired.html)):\n",
    "\n",
    "* k (_int_) - The (max) number of neighbors to take into account for aggregation. \n",
    "* min_k (_int_) - The minimum number of neighbors to take into account for aggregation.\n",
    "* sim_options (_dict_) - A dictionary of options for the similarity measure.\n",
    "* verbose (_bool_) - Whether to print trace messages of bias estimation, similarity, etc. \n",
    "\n",
    "---"
   ]
  },
  {
   "cell_type": "markdown",
   "id": "45e10a00",
   "metadata": {},
   "source": [
    "**2. Model Selection**    \n",
    "Among the collaborative filtering models considered, we chose for KNNBasic. This algorithm forms the foundation of collaborative filtering and provides a simple yet effective approach to recommendation systems. We decided against more complex variants of KNN, such as KNNWithMeans, KNNWithZscore, and KNNBaseline, as our data showed no strong indications of clear biases or trends that could be effectively captured by baseline predictions. By opting for a more straightforward collaborative filtering method, we aim to achieve a good balance between model complexity and predictive accuracy. It's important to note that a more complex model is not necessarily superior, and KNNBasic aligns well with the nature of our dataset. In essence, KNNBasic offers an excellent starting point for building an efficient recommendation system tailored to our specific requirements ([Li et al., 2020](https://www.semanticscholar.org/paper/The-Research-for-Recommendation-System-Based-on-KNN-Li-Wan/e22fb46806831d6af6e9dcd21a5ecfa05f7b30a9))."
   ]
  },
  {
   "cell_type": "markdown",
   "id": "f4180644",
   "metadata": {},
   "source": [
    "**3. Hyperparameter Tuning on Smaller Dataset**    \n",
    "We chose to perform hyperparameter tuning on the KNNBasic collaborative filtering algorithm using a range of hyperparameter values to ensure that our model is optimized for accuracy. The hyperparameters we focused on include `k`, which determines the number of neighbors to consider for aggregation, and `min_k`, which sets the minimum number of neighbors required for aggregation. By exploring a variety of `k` values (ranging from 20 to 50) and `min_k` values (ranging from 1 to 10), we aim to identify the combination that results in the lowest RMSE and MAE. Additionally, we set `user_based` to 'False' to indicate item-based collaborative filtering. The `verbose` parameter is set to 'False' to avoid excessive output during the tuning process. This comprehensive hyperparameter tuning approach ensures that our KNNBasic model is fine-tuned to provide the best possible recommendations."
   ]
  },
  {
   "cell_type": "code",
   "execution_count": 36,
   "id": "8ca12876",
   "metadata": {},
   "outputs": [],
   "source": [
    "# Perform hyperparameter tuning on the smaller dataset\n",
    "param_grid = {'k': [20, 30, 40, 50], 'min_k': [1, 3, 5, 7, 10], 'user_based': [False], 'verbose': [False]}\n",
    "grid_search = GridSearchCV(KNNBasic, param_grid, measures=['rmse', 'mae'], cv=5)\n",
    "grid_search.fit(smaller_dataset)\n",
    "\n",
    "# Get the best hyperparameters for each algorithm\n",
    "best_params = grid_search.best_params"
   ]
  },
  {
   "cell_type": "code",
   "execution_count": 37,
   "id": "907dbd71",
   "metadata": {},
   "outputs": [
    {
     "name": "stdout",
     "output_type": "stream",
     "text": [
      "{'rmse': {'k': 40, 'min_k': 1, 'user_based': False, 'verbose': False}, 'mae': {'k': 40, 'min_k': 1, 'user_based': False, 'verbose': False}}\n"
     ]
    }
   ],
   "source": [
    "print(best_params)"
   ]
  },
  {
   "cell_type": "markdown",
   "id": "63b34f3b",
   "metadata": {},
   "source": [
    "**4. Application of Best Hyperparameters to Larger Dataset**"
   ]
  },
  {
   "cell_type": "code",
   "execution_count": 38,
   "id": "db5236d1",
   "metadata": {},
   "outputs": [],
   "source": [
    "# Create the KNNBasic model with the best hyperparameters\n",
    "final_model_knn = KNNBasic(k=40, min_k=1, user_based=False, verbose=False)"
   ]
  },
  {
   "cell_type": "code",
   "execution_count": 39,
   "id": "52d3e352",
   "metadata": {},
   "outputs": [],
   "source": [
    "# Perform cross-validation to evaluate the final knn model on the larger dataset\n",
    "cv = KFold(n_splits=5, random_state=42, shuffle=True)\n",
    "\n",
    "start_time = time.time()\n",
    "results_knn = cross_validate(final_model_knn, larger_dataset, cv=cv, return_train_measures=True)\n",
    "end_time = time.time()\n",
    "elapsed_time_knn = end_time - start_time"
   ]
  },
  {
   "cell_type": "code",
   "execution_count": 40,
   "id": "bf0ec23e",
   "metadata": {},
   "outputs": [
    {
     "name": "stdout",
     "output_type": "stream",
     "text": [
      "Average RMSE for KNNBasic: 0.7948\n",
      "Average MAE for KNNBasic: 0.594\n",
      "Elapsed time for KNNBasic: 3.37 hours\n"
     ]
    }
   ],
   "source": [
    "# Print the average RMSE and MAE for the final model\n",
    "rmse_array_knn = np.array(results_knn['test_rmse'])\n",
    "mae_array_knn = np.array(results_knn['test_mae'])\n",
    "print(f'Average RMSE for KNNBasic:', round(np.mean(rmse_array_knn), 4))\n",
    "print(f'Average MAE for KNNBasic:', round(np.mean(mae_array_knn), 4))\n",
    "print(f'Elapsed time for KNNBasic: {(elapsed_time_knn/60/60):.2f} hours')"
   ]
  },
  {
   "cell_type": "markdown",
   "id": "32f8776c",
   "metadata": {},
   "source": [
    "---"
   ]
  },
  {
   "cell_type": "markdown",
   "id": "2ad52170",
   "metadata": {},
   "source": [
    "### Model 2: Matrix Factorization-Based Method"
   ]
  },
  {
   "cell_type": "markdown",
   "id": "159a4325",
   "metadata": {},
   "source": [
    "The following matrix factorization-based algortihms are considered in this assignment: (1) SVD, (2) SVD++, and (3) NMF. These algorithms are available under the [Surprise](https://surprise.readthedocs.io/en/stable/basic_algorithms.html) package. \n",
    "\n",
    "---\n",
    "\n",
    "**SVD**    \n",
    "SVD (Singular Value Decomposition) is a matrix factorization technique that decomposes the user-item rating matrix into lower-dimensional matrices to capture latent factors. The prediction $\\hat{r}_{ui}$ is set as:\n",
    "\n",
    "$\\hat{r}_{ui} = \\mu + b_u + b_i + q_i^Tp_u$\n",
    "\n",
    "If user $u$ is unknown, then the bias $b_u$ and the factors $p_u$ as assumed to be zero. The same applies for the item $i$ ith $b_i$ and $q_i$. To estimate all the unknown, we minimize the following regularized squared error:\n",
    "\n",
    "$\\sum_{r_{ui} \\in R_{train}} \\left(r_{ui} - \\hat{r}_{ui} \\right)^2 +\n",
    "\\lambda\\left(b_i^2 + b_u^2 + ||q_i||^2 + ||p_u||^2\\right)$\n",
    "\n",
    "The minimization is performed by a stochastic gradient descent:\n",
    "\n",
    "$\\begin{split}b_u &\\leftarrow b_u &+ \\gamma (e_{ui} - \\lambda b_u)\\\\\n",
    "b_i &\\leftarrow b_i &+ \\gamma (e_{ui} - \\lambda b_i)\\\\\n",
    "p_u &\\leftarrow p_u &+ \\gamma (e_{ui} \\cdot q_i - \\lambda p_u)\\\\\n",
    "q_i &\\leftarrow q_i &+ \\gamma (e_{ui} \\cdot p_u - \\lambda q_i)\\end{split}$\n",
    "\n",
    "where $e_{ui} = r_{ui} - \\hat{r}_{ui}$. \n",
    "\n",
    "The algorithm considers the following parameters ([Surprise](https://surprise.readthedocs.io/en/stable/knn_inspired.html)):\n",
    "\n",
    "* n_factors – The number of factors.\n",
    "* n_epochs – The number of iteration of the SGD procedure. \n",
    "* biased (_bool_) – Whether to use baselines (or biases).\n",
    "* init_mean – The mean of the normal distribution for factor vectors initialization.\n",
    "* init_std_dev – The standard deviation of the normal distribution for factor vectors initialization. \n",
    "* lr_all – The learning rate for all parameters. \n",
    "* reg_all – The regularization term for all parameters. \n",
    "* lr_bu – The learning rate for $b_u$ (i.e., the user biases).\n",
    "* lr_bi – The learning rate for $b_i$ (i.e., the item biases).\n",
    "* lr_pu – The learning rate for $p_u$ (i.e., the user factors).\n",
    "* lr_qi – The learning rate for $q_i$ (i.e., the item factors).\n",
    "* reg_bu – The regularization term for $b_u$.\n",
    "* reg_bi – The regularization term for $b_i$.\n",
    "* reg_pu – The regularization term for $p_u$.\n",
    "* reg_qi – The regularization term for $q_i$.\n",
    "* random_state (int, RandomState instance from numpy, or None) – Determines the RNG that will be used for initialization. If int, random_state will be used as a seed for a new RNG. This is useful to get the same initialization over multiple calls to fit(). If RandomState instance, this same instance is used as RNG. If None, the current RNG from numpy is used. \n",
    "* verbose – If True, prints the current epoch.\n",
    "\n",
    "---\n",
    "     \n",
    "**SVD++**   \n",
    "SVD++ is an extension of SVD that incorporates implicit user feedback in addition to explicit ratings for improved collaborative filtering. The prediction $\\hat{r}_{ui}$ is set as:\n",
    "\n",
    "$\\hat{r}_{ui} = \\mu + b_u + b_i + q_i^T\\left(p_u +\n",
    "|I_u|^{-\\frac{1}{2}} \\sum_{j \\in I_u}y_j\\right)$\n",
    "\n",
    "where the $y_j$ term are a new set of item factors that capture implict ratings. Here, an implicit rating describes the fact that a user $u$ rated an item $j$, regardless of the rating value. If user $u$ is unknown, then the bias $b_u$ and the factors $p_u$ as assumed to be zero. The same applies for the item $i$ ith $b_i$ and $q_i$.\n",
    "\n",
    "Just as for SVD, the parameters are learning using a SGD on the regularized squared error objective.\n",
    "\n",
    "The algorithm considers the following parameters ([Surprise](https://surprise.readthedocs.io/en/stable/knn_inspired.html)):\n",
    "\n",
    "* n_factors – The number of factors.\n",
    "* n_epochs – The number of iteration of the SGD procedure. \n",
    "* cache_ratings - Whether or not to chace ratings during fit. The should speed-up the training, and has a higher memory footprint.\n",
    "* init_mean – The mean of the normal distribution for factor vectors initialization.\n",
    "* init_std_dev – The standard deviation of the normal distribution for factor vectors initialization. \n",
    "* lr_all – The learning rate for all parameters. \n",
    "* reg_all – The regularization term for all parameters. \n",
    "* lr_bu – The learning rate for $b_u$ (i.e., the user biases).\n",
    "* lr_bi – The learning rate for $b_i$ (i.e., the item biases).\n",
    "* lr_pu – The learning rate for $p_u$ (i.e., the user factors).\n",
    "* lr_qi – The learning rate for $q_i$ (i.e., the item factors).\n",
    "* reg_bu – The regularization term for $b_u$.\n",
    "* reg_bi – The regularization term for $b_i$.\n",
    "* reg_pu – The regularization term for $p_u$.\n",
    "* reg_qi – The regularization term for $q_i$.\n",
    "* random_state (int, RandomState instance from numpy, or None) – Determines the RNG that will be used for initialization. If int, random_state will be used as a seed for a new RNG. This is useful to get the same initialization over multiple calls to fit(). If RandomState instance, this same instance is used as RNG. If None, the current RNG from numpy is used. \n",
    "* verbose – If True, prints the current epoch.\n",
    "\n",
    "---\n",
    "\n",
    "**NMF**  \n",
    "NMF (Non-negative Matrix Factorization) is a collaborative filtering algorithm based on matrix factorization, where the user-item matrix is approximated as the product of two non-negative matrices to capture underlying patterns. The prediction $\\hat{r}_{ui}$ is set as:\n",
    "\n",
    "$\\hat{r}_{ui} = q_i^Tp_u$\n",
    "\n",
    "where user and item factors are kept positive. The optimitzation procedure is a (regularized) stochastic gradient descent with a specific choise of step size that ensures non-negativity of factors, provided that their initial values are also positive. At each step of the SGD procedure, the factors $f$ or user $u$ and item $i$ are updated as follows:\n",
    "\n",
    "$\\begin{split}p_{uf} &\\leftarrow p_{uf} &\\cdot \\frac{\\sum_{i \\in I_u} q_{if}\n",
    "\\cdot r_{ui}}{\\sum_{i \\in I_u} q_{if} \\cdot \\hat{r_{ui}} +\n",
    "\\lambda_u |I_u| p_{uf}}\\\\\n",
    "q_{if} &\\leftarrow q_{if} &\\cdot \\frac{\\sum_{u \\in U_i} p_{uf}\n",
    "\\cdot r_{ui}}{\\sum_{u \\in U_i} p_{uf} \\cdot \\hat{r_{ui}} +\n",
    "\\lambda_i |U_i| q_{if}}\\\\\\end{split}$\n",
    "\n",
    "where $\\lambda_u$ and $\\lambda_i$ are regularization parameters. \n",
    "\n",
    "The algorithm considers the following parameters ([Surprise](https://surprise.readthedocs.io/en/stable/knn_inspired.html)):\n",
    "\n",
    "* n_factors – The number of factors.\n",
    "* n_epochs – The number of iteration of the SGD procedure. \n",
    "* biased (_bool_) – Whether to use baselines (or biases).\n",
    "* reg_pu – The regularization term for $\\lambda_u$.\n",
    "* reg_qi – The regularization term for $\\lambda_i$.\n",
    "* reg_bu – The regularization term for $b_u$.\n",
    "* reg_bi – The regularization term for $b_i$.\n",
    "* lr_bu – The learning rate for $b_u$. \n",
    "* lr_bi – The learning rate for $b_i$.\n",
    "* init_low – Lower bound for random initialization of factors.\n",
    "* init_high - Higher bound for random initialization of factors. \n",
    "* random_state (int, RandomState instance from numpy, or None) – Determines the RNG that will be used for initialization. If int, random_state will be used as a seed for a new RNG. This is useful to get the same initialization over multiple calls to fit(). If RandomState instance, this same instance is used as RNG. If None, the current RNG from numpy is used. \n",
    "* verbose – If True, prints the current epoch.\n",
    "\n",
    "---"
   ]
  },
  {
   "cell_type": "markdown",
   "id": "9181b432",
   "metadata": {},
   "source": [
    "**2. Model Selection**  \n",
    "In this assignment, we considered three matrix factorization-based algorithms to build a recommender system: SVD (Singular Value Decomposition), SVD++, and NMF (Non-negative Matrix Factorization). We chose to implement the SVD++ algorithm for several reasons.\n",
    "\n",
    "SVD is a fundamental matrix factorization technique that captures latent factors in the user-item rating matrix to make predictions. SVD++ builds upon SVD by incorporating implicit user feedback alongside explicit ratings, enhancing its collaborative filtering capabilities. The inclusion of implicit ratings is especially valuable because it captures user behavior beyond numerical ratings, improving recommendation quality. The regularization and learning rate parameters in the Surprise library allow us to fine-tune the model's performance.\n",
    "\n",
    "Among the algorithms considered, SVD++ demonstrated a strong balance between accuracy and computational efficiency, making it the optimal choice for our recommender system. It provides reliable recommendations while maintaining a reasonable runtime, crucial for real-time applications. Additionally, SVD++'s interpretability and adjustable parameters offer flexibility in fine-tuning its performance.\n",
    "\n",
    "Lastly, related studies in the field have clearly pointed to a higher prediction error associated with the Non-negative Matrix Factorization (NMF) algorithm compared to SVD++ (e.g., [Huda et al., 2023](https://pubs.aip.org/aip/acp/article-abstract/2508/1/020020/2878879/Comparison-of-matrix-factorization-algorithms?redirectedFrom=fulltext); [Yi et al., 2023](https://dl.acm.org/doi/abs/10.1016/j.ins.2023.01.015); [Beel & Brunel, 2017](chrome-extension://efaidnbmnnnibpcajpcglclefindmkaj/https://ceur-ws.org/Vol-2431/paper6.pdf))."
   ]
  },
  {
   "cell_type": "markdown",
   "id": "8c1a2055",
   "metadata": {},
   "source": [
    "**3. Hyperparameter Tuning on Smaller Dataset**   \n",
    "We fine-tuned the hyperparameters of our SVD++ collaborative filtering model, aiming to optimize its performance for accuracy. To achieve this, we  selected a set of hyperparameters to focus on, ensuring that each contributes significantly to the model's overall performance. The hyperparameters we explored include the number of epochs (`n_epochs`), which determines the number of iterations the model undergoes, the learning rate for all parameters (`lr_all`), and the regularization term for all parameters (`reg_all`). These parameters were chosen for their profound influence on the model's predictive capabilities. We explored a range of values for each hyperparameter, specifically testing `n_epochs` in the range of 10 to 30, `lr_all` spanning from 0.002 to 0.01, and `reg_all` varying between 0.02 to 0.06. Our choice to include these specific values in our search was driven by our aim to include a wide array of possibilities, spanning from subtle fine-tuning to more substantial alterations. This approach guarantees that we not only pinpoint the optimal configuration for our SVD++ model but also consider potential performance variations in different scenarios. To streamline the tuning process and avoid excessive output, we set the verbose parameter to 'False.' "
   ]
  },
  {
   "cell_type": "code",
   "execution_count": 41,
   "id": "34efa212",
   "metadata": {},
   "outputs": [],
   "source": [
    "# Define the parameter grid for hyperparameter tuning\n",
    "param_grid_SVDpp = {\n",
    "    'n_epochs': [10, 20, 30],        \n",
    "    'lr_all': [0.002, 0.005, 0.01],  \n",
    "    'reg_all': [0.02, 0.04, 0.06],   \n",
    "    'verbose': [False]              \n",
    "}\n",
    "\n",
    "grid_search_svdpp = GridSearchCV(SVDpp, param_grid_SVDpp, measures=['rmse', 'mae'], cv=5)\n",
    "grid_search_svdpp.fit(smaller_dataset)\n",
    "\n",
    "# Get the best hyperparameters for SVD++\n",
    "best_params_svdpp = grid_search_svdpp.best_params"
   ]
  },
  {
   "cell_type": "code",
   "execution_count": 42,
   "id": "684757a5",
   "metadata": {},
   "outputs": [
    {
     "name": "stdout",
     "output_type": "stream",
     "text": [
      "{'rmse': {'n_epochs': 20, 'lr_all': 0.01, 'reg_all': 0.06, 'verbose': False}, 'mae': {'n_epochs': 30, 'lr_all': 0.01, 'reg_all': 0.06, 'verbose': False}}\n"
     ]
    }
   ],
   "source": [
    "print(best_params_svdpp)"
   ]
  },
  {
   "cell_type": "markdown",
   "id": "182fc7f6",
   "metadata": {},
   "source": [
    "**4. Application of Best Hyperparameters to Larger Dataset**   \n",
    "We opted to focus on achieving the optimal parameters for RMSE rather than MAE. RMSE places a higher emphasis on the accurate prediction of user ratings and is more sensitive to larger errors, making it a suitable choice for our use case. The parameter configuration we selected for RMSE optimization – `n_epochs`: 20, `lr_all`: 0.01, `reg_all`: 0.06, and `verbose`: False – is designed to yield the lowest RMSE values, aligning with our primary objective of delivering highly accurate recommendations to users."
   ]
  },
  {
   "cell_type": "code",
   "execution_count": 43,
   "id": "aa41c22d",
   "metadata": {},
   "outputs": [],
   "source": [
    "# Create the SVD++ model with the best hyperparameters\n",
    "final_svdpp_model = SVDpp(n_epochs=20, lr_all=0.01, reg_all=0.06, verbose=False)"
   ]
  },
  {
   "cell_type": "code",
   "execution_count": 44,
   "id": "920657c2",
   "metadata": {},
   "outputs": [],
   "source": [
    "# Perform cross-validation to evaluate the final SVD model on the larger dataset\n",
    "cv = KFold(n_splits=5, random_state=42, shuffle=True)\n",
    "\n",
    "start_time = time.time()\n",
    "results_svd = cross_validate(final_svdpp_model, larger_dataset, cv=cv, return_train_measures=True)\n",
    "end_time = time.time()\n",
    "elapsed_time_svd = end_time - start_time"
   ]
  },
  {
   "cell_type": "code",
   "execution_count": 47,
   "id": "9db9dcbc",
   "metadata": {},
   "outputs": [
    {
     "name": "stdout",
     "output_type": "stream",
     "text": [
      "Average RMSE for KNNBasic: 0.7408\n",
      "Average MAE for KNNBasic: 0.5591\n",
      "Elapsed time for KNNBasic: 2.92 hours\n"
     ]
    }
   ],
   "source": [
    "# Print the average RMSE and MAE for the final model\n",
    "rmse_array_svd = np.array(results_svd['test_rmse'])\n",
    "mae_array_svd = np.array(results_svd['test_mae'])\n",
    "print(f'Average RMSE for SVD++:', round(np.mean(rmse_array_svd), 4))\n",
    "print(f'Average MAE for SVD++:', round(np.mean(mae_array_svd), 4))\n",
    "print(f'Elapsed time for SVD++: {(elapsed_time_svd/60/60):.2f} hours')"
   ]
  },
  {
   "cell_type": "markdown",
   "id": "ff1ef6c9",
   "metadata": {},
   "source": [
    "---"
   ]
  },
  {
   "cell_type": "markdown",
   "id": "473afe6c",
   "metadata": {},
   "source": [
    "### Model Evaluation: Normal Predictor, KNNBasic, and SVD++\n",
    "As discussed previously, we compared three different models: NormalPredictor, KNNBasic, and SVD++. Each model was evaluated based on RMSE and MAE, which provide insights into the accuracy of their predictions. The RMSE quantifies the magnitude of prediction errors, with lower values indicating better accuracy. Similarly, the MAE measures the average absolute difference between predicted and actual ratings. It is evident from the evaluation table below that the SVD++ model outperforms both NormalPredictor and KNNBasic in terms of lower RMSE and MAE. Specifically, the RMSE for SVD++ is 0.7408, while the RMSE for KNNBasic is 0.7948. The MAE for SVD++ is 0.5591, and the MAE for KNNBasic is 0.5940. These numbers indicate superior prediction accuracy for SVD++. Moreover, SVD++ also exhibits faster execution times, with a running time of 2.92 hours, compared to KNNBasic's running time of 3.37 hours. In conclusion, the results lead us to choose the SVD++ model as the optimal recommendation algorithm for our specific use case."
   ]
  },
  {
   "cell_type": "code",
   "execution_count": 61,
   "id": "196680b2",
   "metadata": {},
   "outputs": [
    {
     "data": {
      "text/html": [
       "<div>\n",
       "<style scoped>\n",
       "    .dataframe tbody tr th:only-of-type {\n",
       "        vertical-align: middle;\n",
       "    }\n",
       "\n",
       "    .dataframe tbody tr th {\n",
       "        vertical-align: top;\n",
       "    }\n",
       "\n",
       "    .dataframe thead th {\n",
       "        text-align: right;\n",
       "    }\n",
       "</style>\n",
       "<table border=\"1\" class=\"dataframe\">\n",
       "  <thead>\n",
       "    <tr style=\"text-align: right;\">\n",
       "      <th></th>\n",
       "      <th>Model</th>\n",
       "      <th>Average RMSE</th>\n",
       "      <th>Average MAE</th>\n",
       "      <th>Running Time</th>\n",
       "    </tr>\n",
       "  </thead>\n",
       "  <tbody>\n",
       "    <tr>\n",
       "      <th>0</th>\n",
       "      <td>NormalPredictor</td>\n",
       "      <td>1.3979</td>\n",
       "      <td>1.1127</td>\n",
       "      <td>0.05 hours</td>\n",
       "    </tr>\n",
       "    <tr>\n",
       "      <th>1</th>\n",
       "      <td>KNNBasic</td>\n",
       "      <td>0.7948</td>\n",
       "      <td>0.5940</td>\n",
       "      <td>3.37 hours</td>\n",
       "    </tr>\n",
       "    <tr>\n",
       "      <th>2</th>\n",
       "      <td>SVD++</td>\n",
       "      <td>0.7408</td>\n",
       "      <td>0.5591</td>\n",
       "      <td>2.92 hours</td>\n",
       "    </tr>\n",
       "  </tbody>\n",
       "</table>\n",
       "</div>"
      ],
      "text/plain": [
       "             Model  Average RMSE  Average MAE Running Time\n",
       "0  NormalPredictor        1.3979       1.1127   0.05 hours\n",
       "1         KNNBasic        0.7948       0.5940   3.37 hours\n",
       "2            SVD++        0.7408       0.5591   2.92 hours"
      ]
     },
     "execution_count": 61,
     "metadata": {},
     "output_type": "execute_result"
    }
   ],
   "source": [
    "model_results = {\n",
    "    'Model': ['NormalPredictor', 'KNNBasic', 'SVD++'],\n",
    "    'Average RMSE': [\n",
    "        round(np.mean(rmse_NormalPredictor_array), 4),\n",
    "        round(np.mean(rmse_array_knn), 4),\n",
    "        round(np.mean(rmse_array_svd), 4)\n",
    "    ],\n",
    "    'Average MAE': [\n",
    "        round(np.mean(mae_NormalPredictor_array), 4),\n",
    "        round(np.mean(mae_array_knn), 4),\n",
    "        round(np.mean(mae_array_svd), 4)\n",
    "    ],\n",
    "    'Running Time': [\n",
    "        f\"{round(elapsed_time_normal_predictor/60/60, 2)} hours\",\n",
    "        f\"{round(elapsed_time_knn/60/60, 2)} hours\",\n",
    "        f\"{round(elapsed_time_svd/60/60, 2)} hours\"\n",
    "    ]\n",
    "}\n",
    "\n",
    "# Display the results table\n",
    "results_table = pd.DataFrame(model_results)\n",
    "results_table"
   ]
  },
  {
   "cell_type": "markdown",
   "id": "fd751e5e",
   "metadata": {},
   "source": [
    "**Suggested Improvements**    \n",
    "To enhance the performance of our recommendation system, there are several areas for improvement. First, increasing the volume of data by incorporating more users and ratings would contribute to more accurate and robust recommendations. Besides, the addition of richer user data, such as user demographics, preferences, and historical behaviors, could further refine the system's ability to provide personalized suggestions. Additionally, exploring advanced recommendation techniques, including hybrid models that combine collaborative and content-based approaches, could lead to even more precise recommendations. Fine-tuning the hyperparameters of our chosen algorithms and incorporating innovative methods for cold-start problem mitigation are also areas for potential refinement. Lastly, considering the dynamic nature of user preferences, implementing real-time recommendation updates could ensure that the system adapts to evolving user behaviors, providing a more engaging user experience."
   ]
  },
  {
   "cell_type": "markdown",
   "id": "dcc49564",
   "metadata": {},
   "source": [
    "---"
   ]
  },
  {
   "cell_type": "markdown",
   "id": "f44c216b",
   "metadata": {},
   "source": [
    "## References\n",
    "\n",
    "- Beel, J., & Brunel, V. (2019). Data pruning in Recommender Systems Research: Best-Practice or Malpractice? _Conference on Recommender Systems, 26–30_. http://ceur-ws.org/Vol-2431/paper6.pdf\n",
    "\n",
    "- Huda, S. N., Rani, S., & Fudholi, D. H. (2023). Comparison of matrix factorization algorithms’ performance in tourist attraction recommendations. _AIP Conference Proceedings, 2508_. https://pubs.aip.org/aip/acp/article-abstract/2508/1/020020/2878879/Comparison-of-matrix-factorization-algorithms?redirectedFrom=fulltext\n",
    "\n",
    "- Karpus, A., Noia, T. D., & Goczyła, K. (2017). Top k recommendations using contextual conditional preferences model. _2017 Federated Conference on Computer Science and Information Systems (FedCSIS), 19-28_. https://annals-csis.org/Volume_11/drp/pdf/258.pdf\n",
    "\n",
    "- Li, B., Wan, S., Xia, H., & Qian, F. (2020). The Research for Recommendation System Based on Improved KNN Algorithm. _IEEE International Conference on Advances in Electrical Engineering and Computer Applications (AEECA)_. https://www.semanticscholar.org/paper/The-Research-for-Recommendation-System-Based-on-KNN-Li-Wan/e22fb46806831d6af6e9dcd21a5ecfa05f7b30a9\n",
    "\n",
    "- Shinde, S., & Potey, M. A. (2015). Survey on Evaluation of Recommender Systems. https://www.semanticscholar.org/paper/Survey-on-Evaluation-of-Recommender-Systems-Shinde-Potey/a38548d76d4c05809daa22472599055bbdd8fec3\n",
    "\n",
    "- Xu, Y., Wang, M., & Luo, F. (2023). The movement strategy of three-way decisions based on clustering. _Information Sciences, 625_, 175-191. https://dl.acm.org/doi/abs/10.1016/j.ins.2023.01.015\n",
    "\n",
    "- Zeshan, F., & Ebrahimian, M. (2020). Recommendation Systems: Algorithms, Challenges, Metrics, and Business Opportunities. _Applied Sciences_. https://www.mdpi.com/2076-3417/10/21/7748"
   ]
  },
  {
   "cell_type": "markdown",
   "id": "8ecd3053",
   "metadata": {},
   "source": [
    "---"
   ]
  }
 ],
 "metadata": {
  "kernelspec": {
   "display_name": "Python 3",
   "language": "python",
   "name": "python3"
  },
  "language_info": {
   "codemirror_mode": {
    "name": "ipython",
    "version": 3
   },
   "file_extension": ".py",
   "mimetype": "text/x-python",
   "name": "python",
   "nbconvert_exporter": "python",
   "pygments_lexer": "ipython3",
   "version": "3.8.8"
  }
 },
 "nbformat": 4,
 "nbformat_minor": 5
}
